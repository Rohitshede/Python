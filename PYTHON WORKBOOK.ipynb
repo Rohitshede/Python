{
 "cells": [
  {
   "cell_type": "markdown",
   "id": "7a22e381",
   "metadata": {},
   "source": [
    "## What is Python?\n",
    "Python is a popular programming language. It was created by Guido van Rossum, and released in 1991.\n",
    "\n",
    "It is used for:\n",
    "\n",
    "* web development (server-side)\n",
    "* software development\n",
    "* mathematics\n",
    "* system scripting"
   ]
  },
  {
   "cell_type": "markdown",
   "id": "097c78b8",
   "metadata": {},
   "source": [
    "## What can Python do?\n",
    "* Python can be used on a server to create web applications.\n",
    "* Python can be used alongside software to create workflows.\n",
    "* Python can connect to database systems. It can also read and modify files.\n",
    "* Python can be used to handle big data and perform complex mathematics.\n",
    "* Python can be used for rapid prototyping, or for production-ready software development."
   ]
  },
  {
   "cell_type": "markdown",
   "id": "70fbd0ff",
   "metadata": {},
   "source": [
    "## Why Python?\n",
    "* Python works on different platforms (Windows, Mac, Linux, Raspberry Pi, etc).\n",
    "* Python has a simple syntax similar to the English language.\n",
    "* Python has syntax that allows developers to write programs with fewer lines than some other programming languages.\n",
    "* Python runs on an interpreter system, meaning that code can be executed as soon as it is written. This means that prototyping can be very quick.\n",
    "* Python can be treated in a procedural way, an object-oriented way or a functional way."
   ]
  },
  {
   "cell_type": "markdown",
   "id": "25050423",
   "metadata": {},
   "source": [
    "## Python Syntax compared to other programming languages\n",
    "* Python was designed for readability, and has some similarities to the English language with influence from mathematics.\n",
    "* Python uses new lines to complete a command, as opposed to other programming languages which often use semicolons or parentheses.\n",
    "* Python relies on indentation, using whitespace, to define scope; such as the scope of loops, functions and classes. Other programming languages often use curly-brackets for this purpose."
   ]
  },
  {
   "cell_type": "code",
   "execution_count": 1,
   "id": "7b28652f",
   "metadata": {},
   "outputs": [
    {
     "name": "stdout",
     "output_type": "stream",
     "text": [
      "Hello, World...!\n"
     ]
    }
   ],
   "source": [
    "# My first code\n",
    "print(\"Hello, World...!\")"
   ]
  },
  {
   "cell_type": "markdown",
   "id": "93f79956",
   "metadata": {},
   "source": [
    "## Keywords List"
   ]
  },
  {
   "cell_type": "code",
   "execution_count": 2,
   "id": "fe28f365",
   "metadata": {},
   "outputs": [
    {
     "name": "stdout",
     "output_type": "stream",
     "text": [
      "['False', 'None', 'True', 'and', 'as', 'assert', 'async', 'await', 'break', 'class', 'continue', 'def', 'del', 'elif', 'else', 'except', 'finally', 'for', 'from', 'global', 'if', 'import', 'in', 'is', 'lambda', 'nonlocal', 'not', 'or', 'pass', 'raise', 'return', 'try', 'while', 'with', 'yield']\n"
     ]
    },
    {
     "data": {
      "text/plain": [
       "35"
      ]
     },
     "execution_count": 2,
     "metadata": {},
     "output_type": "execute_result"
    }
   ],
   "source": [
    "import keyword\n",
    "\n",
    "print(keyword.kwlist)\n",
    "\n",
    "len(keyword.kwlist)"
   ]
  },
  {
   "cell_type": "markdown",
   "id": "26bc968a",
   "metadata": {},
   "source": [
    "## Python Data Types\n",
    "\n",
    "1. Numeric data types: int, float, complex.\n",
    "2. String data types: str.\n",
    "3. Sequence types: list, tuple, range.\n",
    "4. Binary types: bytes, bytearray, memoryview.\n",
    "5. Mapping data type: dict.\n",
    "6. Boolean type: bool.\n",
    "7. Set data types: set, frozenset."
   ]
  },
  {
   "cell_type": "markdown",
   "id": "a4319de4",
   "metadata": {},
   "source": [
    "## Identifying class/type of variable\n"
   ]
  },
  {
   "cell_type": "code",
   "execution_count": 3,
   "id": "fb6ac47f",
   "metadata": {},
   "outputs": [
    {
     "name": "stdout",
     "output_type": "stream",
     "text": [
      "value of x: 10\n",
      "type of x: <class 'int'>\n",
      "\n",
      "\n",
      "value of y: 12.9\n",
      "type of y: <class 'float'>\n",
      "\n",
      "\n",
      "value of z: (9-3j)\n",
      "type of z: <class 'complex'>\n",
      "\n",
      "\n",
      "value of a: hii hello\n",
      "type of a: <class 'str'>\n"
     ]
    }
   ],
   "source": [
    "x = 10\n",
    "print(\"value of x:\",(x))\n",
    "print (\"type of x:\",type(x))\n",
    "\n",
    "print(\"\\n\")\n",
    "\n",
    "y = 12.9\n",
    "print(\"value of y:\",(y))\n",
    "print(\"type of y:\",type(y))\n",
    "\n",
    "print(\"\\n\")\n",
    "\n",
    "z = 9-3j\n",
    "print(\"value of z:\",(z))\n",
    "print(\"type of z:\",type(z))\n",
    "\n",
    "print(\"\\n\")\n",
    "\n",
    "a = \"hii hello\"\n",
    "print(\"value of a:\",(a))\n",
    "print(\"type of a:\",type(a))"
   ]
  },
  {
   "cell_type": "markdown",
   "id": "c7cab7cc",
   "metadata": {},
   "source": [
    "## String/integer to float conversion:"
   ]
  },
  {
   "cell_type": "code",
   "execution_count": 4,
   "id": "2d8be09e",
   "metadata": {},
   "outputs": [
    {
     "name": "stdout",
     "output_type": "stream",
     "text": [
      "integer to float:\n",
      "100\n",
      "<class 'int'>\n",
      "100.0\n",
      "<class 'float'>\n",
      "\n",
      "\n",
      "string to float:\n",
      "567\n",
      "<class 'str'>\n",
      "567\n",
      "<class 'int'>\n",
      "567.0\n",
      "<class 'float'>\n"
     ]
    }
   ],
   "source": [
    "print(\"integer to float:\")\n",
    "value = 100\n",
    "print(value)\n",
    "print(type(value))\n",
    "\n",
    "value_1 = float(value)\n",
    "print(value_1)\n",
    "print(type(value_1))\n",
    "\n",
    "print(\"\\n\")\n",
    "\n",
    "#string to float conversion\n",
    "#if there is an integer in string format only then we can convert it into float or integer format\n",
    "#first convert string into integer and then into float or you can directly convert string into float\n",
    "\n",
    "\n",
    "print(\"string to float:\")\n",
    "str1 = \"567\"\n",
    "print(str1)\n",
    "print(type(str1))\n",
    "\n",
    "str2 = int(str1)\n",
    "print(str2)\n",
    "print(type(str2))\n",
    "\n",
    "str3 = float(str2)\n",
    "print(str3)\n",
    "print(type(str3))"
   ]
  },
  {
   "cell_type": "markdown",
   "id": "c798a41e",
   "metadata": {},
   "source": [
    "## Float/string to integer conversion"
   ]
  },
  {
   "cell_type": "code",
   "execution_count": 5,
   "id": "3e41f62d",
   "metadata": {},
   "outputs": [
    {
     "name": "stdout",
     "output_type": "stream",
     "text": [
      "float to integer typecasting:\n",
      "250.5\n",
      "<class 'float'>\n",
      "250\n",
      "<class 'int'>\n",
      "\n",
      "\n",
      "string to integer typecasting:\n",
      "250\n",
      "<class 'str'>\n",
      "250\n",
      "<class 'int'>\n"
     ]
    }
   ],
   "source": [
    "print(\"float to integer typecasting:\")\n",
    "val1 = 250.5\n",
    "print(val1)\n",
    "print(type(val1))\n",
    "\n",
    "val2 = int(val1)\n",
    "print(val2)\n",
    "print(type(val2))\n",
    "\n",
    "print(\"\\n\")\n",
    "\n",
    "print(\"string to integer typecasting:\")\n",
    "val3 = \"250\"\n",
    "print(val3)\n",
    "print(type(val3))\n",
    "\n",
    "val4 = int(val3)\n",
    "print(val4)\n",
    "print(type(val4))"
   ]
  },
  {
   "cell_type": "markdown",
   "id": "7690f19e",
   "metadata": {},
   "source": [
    "## String-float-integer"
   ]
  },
  {
   "cell_type": "code",
   "execution_count": 6,
   "id": "e437e844",
   "metadata": {},
   "outputs": [
    {
     "name": "stdout",
     "output_type": "stream",
     "text": [
      "120.9\n",
      "<class 'str'>\n",
      "120.9\n",
      "<class 'float'>\n",
      "120\n",
      "<class 'int'>\n"
     ]
    }
   ],
   "source": [
    "# to convert float value from string format ,first convert string into float and then into integer\n",
    "# if there is a float value in string format then you can't convert it directly into integer\n",
    "# for that you have to first convert the string into float and then into integer\n",
    "\n",
    "str1 = \"120.9\"\n",
    "print(str1)\n",
    "print(type(str1))\n",
    "\n",
    "str2 = float(str1)\n",
    "print(str2)\n",
    "print(type(str2))\n",
    "\n",
    "str3 = int(str2)\n",
    "print(str3)\n",
    "print(type(str3))"
   ]
  },
  {
   "cell_type": "markdown",
   "id": "fb92b2b9",
   "metadata": {},
   "source": [
    "## Integer to string, Float to string, Complex to string\n"
   ]
  },
  {
   "cell_type": "code",
   "execution_count": 7,
   "id": "f02b5ca6",
   "metadata": {},
   "outputs": [
    {
     "name": "stdout",
     "output_type": "stream",
     "text": [
      "integer to string:\n",
      "100\n",
      "<class 'int'>\n",
      "100\n",
      "<class 'str'>\n",
      "\n",
      "\n",
      "float to string:\n",
      "100.9\n",
      "<class 'float'>\n",
      "100.9\n",
      "<class 'str'>\n",
      "\n",
      "\n",
      "complex to string\n",
      "(4+5j)\n",
      "<class 'complex'>\n",
      "(4+5j)\n",
      "<class 'str'>\n"
     ]
    }
   ],
   "source": [
    "#integer to string\n",
    "\n",
    "print(\"integer to string:\")\n",
    "a = 100\n",
    "print(a)\n",
    "print(type(a))\n",
    "\n",
    "b = str(a)\n",
    "print(b)\n",
    "print(type(b))\n",
    "\n",
    "#float to string\n",
    "\n",
    "print(\"\\n\")\n",
    "\n",
    "print(\"float to string:\")\n",
    "c = 100.9\n",
    "print(c)\n",
    "print(type(c))\n",
    "\n",
    "d = str(c)\n",
    "print(d)\n",
    "print(type(d))\n",
    "\n",
    "#complex to string\n",
    "\n",
    "print(\"\\n\")\n",
    "\n",
    "print(\"complex to string\")\n",
    "e = 4+5j\n",
    "print(e)\n",
    "print(type(e))\n",
    "\n",
    "f = str(e)\n",
    "print(f)\n",
    "print(type(f))"
   ]
  },
  {
   "cell_type": "markdown",
   "id": "15534ec2",
   "metadata": {},
   "source": [
    "## Complex function"
   ]
  },
  {
   "cell_type": "code",
   "execution_count": 8,
   "id": "62c26c4e",
   "metadata": {},
   "outputs": [
    {
     "name": "stdout",
     "output_type": "stream",
     "text": [
      "(3+4j)\n",
      "<class 'complex'>\n",
      "the real part:\n",
      "3.0\n",
      "the imaginary part\n",
      "4.0\n",
      "\n",
      "\n",
      "(9+0j)\n",
      "<class 'complex'>\n",
      "the real part\n",
      "9.0\n",
      "the imaginary part\n",
      "0.0\n"
     ]
    }
   ],
   "source": [
    "a = complex(3,4)\n",
    "print(a)\n",
    "print(type(a))\n",
    "\n",
    "print(\"the real part:\")\n",
    "print(a.real)\n",
    "\n",
    "print(\"the imaginary part\")\n",
    "print(a.imag)\n",
    "\n",
    "print(\"\\n\")\n",
    "\n",
    "b = complex(9)\n",
    "print(b)\n",
    "print(type(b))\n",
    "\n",
    "print(\"the real part\")\n",
    "print(b.real)\n",
    "\n",
    "print(\"the imaginary part\")\n",
    "print(b.imag)"
   ]
  },
  {
   "cell_type": "code",
   "execution_count": 9,
   "id": "0c05d3e4",
   "metadata": {},
   "outputs": [
    {
     "name": "stdout",
     "output_type": "stream",
     "text": [
      "8.9\n",
      "<class 'float'>\n",
      "(8.9+0j)\n",
      "<class 'complex'>\n",
      "8.9\n",
      "0.0\n"
     ]
    }
   ],
   "source": [
    "#assignment-complex number using float value\n",
    "\n",
    "a = 8.9\n",
    "print(a)\n",
    "print(type(a))\n",
    "\n",
    "b = complex(a)\n",
    "print(b)\n",
    "print(type(b))\n",
    "\n",
    "print(b.real)\n",
    "print(b.imag)"
   ]
  },
  {
   "cell_type": "code",
   "execution_count": 10,
   "id": "283e1c34",
   "metadata": {},
   "outputs": [
    {
     "name": "stdout",
     "output_type": "stream",
     "text": [
      "(1+0j)\n"
     ]
    }
   ],
   "source": [
    "#complex number using bool\n",
    "\n",
    "print(complex(True,False))"
   ]
  },
  {
   "cell_type": "markdown",
   "id": "c2bb527b",
   "metadata": {},
   "source": [
    "## Bool function"
   ]
  },
  {
   "cell_type": "code",
   "execution_count": 11,
   "id": "52ebfa03",
   "metadata": {},
   "outputs": [
    {
     "name": "stdout",
     "output_type": "stream",
     "text": [
      "1\n",
      "0\n",
      "\n",
      "\n",
      "1.0\n",
      "0.0\n",
      "\n",
      "\n",
      "True\n",
      "False\n",
      "\n",
      "\n",
      "(1+0j)\n",
      "0j\n"
     ]
    }
   ],
   "source": [
    "print(int(True))\n",
    "print(int(False))\n",
    "print(\"\\n\")\n",
    "\n",
    "print(float(True))\n",
    "print(float(False))\n",
    "print(\"\\n\")\n",
    "\n",
    "print(str(True))\n",
    "print(str(False))\n",
    "print(\"\\n\")\n",
    "\n",
    "print(complex(True))\n",
    "print(complex(False))"
   ]
  },
  {
   "cell_type": "markdown",
   "id": "f257e047",
   "metadata": {},
   "source": [
    "## String slicing"
   ]
  },
  {
   "cell_type": "code",
   "execution_count": 12,
   "id": "db00a7cc",
   "metadata": {},
   "outputs": [
    {
     "name": "stdout",
     "output_type": "stream",
     "text": [
      "20\n",
      "Hii My Name Is Rohit\n",
      "N\n",
      "H\n",
      "H\n",
      "Hii My Name Is Rohit\n",
      "Hii My Name Is Rohi\n",
      "tihoR sI emaN yM iiH\n"
     ]
    }
   ],
   "source": [
    "str1 = 'Hii My Name Is Rohit'\n",
    "print(len(str1))\n",
    "print(str1)\n",
    "print(str1[7])\n",
    "print(str1[-20])\n",
    "print(str1[0])\n",
    "print(str1[0:])\n",
    "print(str1[:19])\n",
    "print(str1[::-1])"
   ]
  },
  {
   "cell_type": "code",
   "execution_count": 13,
   "id": "eb2a134e",
   "metadata": {},
   "outputs": [
    {
     "name": "stdout",
     "output_type": "stream",
     "text": [
      "['p', 'y', 't', 'h', 'o', 'n']\n",
      "<class 'list'>\n"
     ]
    }
   ],
   "source": [
    "l = ['p','y','t','h','o','n']\n",
    "print(l)\n",
    "print(type(l))"
   ]
  },
  {
   "cell_type": "markdown",
   "id": "606d450f",
   "metadata": {},
   "source": [
    "## Immutability"
   ]
  },
  {
   "cell_type": "code",
   "execution_count": 14,
   "id": "7d9ea8f2",
   "metadata": {},
   "outputs": [
    {
     "name": "stdout",
     "output_type": "stream",
     "text": [
      "3111092380560 \n",
      "\n",
      "3111092380560 \n",
      "\n",
      "True\n"
     ]
    }
   ],
   "source": [
    "x = 609\n",
    "y = x\n",
    "\n",
    "print(id(x),\"\\n\")\n",
    "print(id(y),\"\\n\")\n",
    "print(x is y)"
   ]
  },
  {
   "cell_type": "code",
   "execution_count": 15,
   "id": "ccb75299",
   "metadata": {},
   "outputs": [
    {
     "name": "stdout",
     "output_type": "stream",
     "text": [
      "id of x: 140723651080968 \n",
      "\n",
      "id of y: 140723651080968 \n",
      "\n",
      "True\n"
     ]
    }
   ],
   "source": [
    "x = 256\n",
    "print(\"id of x:\",id(x),\"\\n\")\n",
    "\n",
    "y = 256\n",
    "print(\"id of y:\",id(y),\"\\n\")\n",
    "  \n",
    "print(x is y)"
   ]
  },
  {
   "cell_type": "code",
   "execution_count": 16,
   "id": "0ab1be5a",
   "metadata": {},
   "outputs": [
    {
     "name": "stdout",
     "output_type": "stream",
     "text": [
      "id of x: 3111092380752 \n",
      "\n",
      "id of y: 3111092380208 \n",
      "\n",
      "False\n"
     ]
    }
   ],
   "source": [
    "x = 123.12\n",
    "print(\"id of x:\",id(x),\"\\n\")\n",
    "\n",
    "y = 123.12\n",
    "print(\"id of y:\",id(y),\"\\n\")\n",
    "print(x is y)"
   ]
  },
  {
   "cell_type": "markdown",
   "id": "b223dd7e",
   "metadata": {},
   "source": [
    "## Bytes\n",
    "\n",
    "1. You cannot change the content in bytes\n",
    "2. Bytes are immutable"
   ]
  },
  {
   "cell_type": "code",
   "execution_count": 17,
   "id": "bdbbe83a",
   "metadata": {},
   "outputs": [
    {
     "name": "stdout",
     "output_type": "stream",
     "text": [
      "[1, 2, 3, 4, 5, 6, 7, 8] \n",
      "\n",
      "b'\\x01\\x02\\x03\\x04\\x05\\x06\\x07\\x08'\n",
      "1\n",
      "2\n",
      "3\n",
      "4\n",
      "5\n",
      "6\n",
      "7\n",
      "8\n"
     ]
    }
   ],
   "source": [
    "a = [1,2,3,4,5,6,7,8]\n",
    "print(a,\"\\n\")\n",
    "\n",
    "b = bytes(a)\n",
    "print(b)\n",
    "\n",
    "for i in b:\n",
    "    print(i)\n",
    "\n",
    "#b[3]=5\n",
    "#you cannot change the value once it is created in bytes "
   ]
  },
  {
   "cell_type": "markdown",
   "id": "5810c1ac",
   "metadata": {},
   "source": [
    "## Bytearray\n",
    "\n",
    "1. Bytes and Bytesarray are similar\n",
    "2. You can change the content in bytearray\n",
    "3. Bytearray are mutable"
   ]
  },
  {
   "cell_type": "code",
   "execution_count": 18,
   "id": "794b8d6b",
   "metadata": {},
   "outputs": [
    {
     "name": "stdout",
     "output_type": "stream",
     "text": [
      "[1, 2, 3, 4, 5, 6, 7, 8] \n",
      "\n",
      "bytearray(b'\\x01\\x02\\x03\\x04\\x05\\x06\\x07\\x08') \n",
      "\n",
      "bytearray(b'\\x01\\x02\\x03\\x04\\x05\\x17\\x07\\x08')\n",
      "1\n",
      "2\n",
      "3\n",
      "4\n",
      "5\n",
      "23\n",
      "7\n",
      "8\n"
     ]
    }
   ],
   "source": [
    "a = [1,2,3,4,5,6,7,8]\n",
    "print(a,\"\\n\")\n",
    "\n",
    "b = bytearray(a)\n",
    "print(b,\"\\n\")\n",
    "\n",
    "b[5] = 23\n",
    "\n",
    "print(b)\n",
    "\n",
    "for i in b:\n",
    "    print(i)"
   ]
  },
  {
   "cell_type": "markdown",
   "id": "0b62a111",
   "metadata": {},
   "source": [
    "## List\n",
    "There are 11 functions in list as follows:-\n",
    "1. append\n",
    "2. clear\n",
    "3. copy\n",
    "4. count\n",
    "5. extend\n",
    "6. index\n",
    "7. insert\n",
    "8. pop\n",
    "9. remove\n",
    "10. reverse\n",
    "11. sort"
   ]
  },
  {
   "cell_type": "code",
   "execution_count": 19,
   "id": "454ea465",
   "metadata": {},
   "outputs": [
    {
     "name": "stdout",
     "output_type": "stream",
     "text": [
      "[1, 2, 3, 4, 5, 6, 7, 8]\n",
      "<class 'list'> \n",
      "\n",
      "[1.2, 2.3, 3.4, 4.5, 5.6, 6.7, 7.8, 8.9]\n",
      "<class 'list'> \n",
      "\n",
      "['apple', 'mango', 'banana', 'orange']\n",
      "<class 'list'> \n",
      "\n",
      "[1, 2, 1.2, 2.3, 'apple', 'mango']\n",
      "<class 'list'>\n"
     ]
    }
   ],
   "source": [
    "a = [1,2,3,4,5,6,7,8]\n",
    "print(a)\n",
    "print(type(a),\"\\n\")\n",
    "\n",
    "b = [1.2,2.3,3.4,4.5,5.6,6.7,7.8,8.9]\n",
    "print(b)\n",
    "print(type(b),\"\\n\")\n",
    "\n",
    "c = [\"apple\",\"mango\",\"banana\",\"orange\"]\n",
    "print(c)\n",
    "print(type(c),\"\\n\")\n",
    "\n",
    "d = [1,2,1.2,2.3,\"apple\",\"mango\"]\n",
    "print(d)\n",
    "print(type(d))"
   ]
  },
  {
   "cell_type": "code",
   "execution_count": 20,
   "id": "1b5c3bcd",
   "metadata": {},
   "outputs": [
    {
     "name": "stdout",
     "output_type": "stream",
     "text": [
      "[1, 2, 3, 4, 5, 6, 7, 8, 9, 10] \n",
      "\n",
      "2\n"
     ]
    },
    {
     "data": {
      "text/plain": [
       "[1, 2, 3, 4, 5, 6, 7, 8, 9, 10]"
      ]
     },
     "execution_count": 20,
     "metadata": {},
     "output_type": "execute_result"
    }
   ],
   "source": [
    "a = [1,2,3,4,5,6,7,8,9,10]\n",
    "\n",
    "print(a,'\\n')\n",
    "\n",
    "print(a[1])\n",
    "\n",
    "a[-10:]"
   ]
  },
  {
   "cell_type": "code",
   "execution_count": 21,
   "id": "4bab194c",
   "metadata": {},
   "outputs": [
    {
     "name": "stdout",
     "output_type": "stream",
     "text": [
      "<class 'list'>\n",
      "5\n"
     ]
    }
   ],
   "source": [
    "a = [1,2,3,4,5,6,7,8,9,10]\n",
    "print(type(a))\n",
    "\n",
    "print(a[4])"
   ]
  },
  {
   "cell_type": "code",
   "execution_count": 22,
   "id": "8782581d",
   "metadata": {},
   "outputs": [
    {
     "name": "stdout",
     "output_type": "stream",
     "text": [
      "[1, 2, 3, 4, 5, 6, 7, 8, 9, 10, 11]\n"
     ]
    }
   ],
   "source": [
    "#Append function\n",
    "a = [1,2,3,4,5,6,7,8,9,10]\n",
    "\n",
    "a.append(11)\n",
    "print(a)"
   ]
  },
  {
   "cell_type": "code",
   "execution_count": 23,
   "id": "117abfaf",
   "metadata": {},
   "outputs": [
    {
     "name": "stdout",
     "output_type": "stream",
     "text": [
      "[1, 2, 3, 4, 5, 6, 7, 8, 9, 10, 11]\n",
      "[1, 2, 3, 4, 5, 6, 7, 8, 9, 10]\n"
     ]
    }
   ],
   "source": [
    "#Remove function\n",
    "a = [1,2,3,4,5,6,7,8,9,10,11]\n",
    "print(a)\n",
    "a.remove(11)\n",
    "print(a)"
   ]
  },
  {
   "cell_type": "code",
   "execution_count": 24,
   "id": "a16b5f18",
   "metadata": {},
   "outputs": [
    {
     "data": {
      "text/plain": [
       "[1, 2, 3, 4, 5, 6, 7, 8, 9, 10, 11]"
      ]
     },
     "execution_count": 24,
     "metadata": {},
     "output_type": "execute_result"
    }
   ],
   "source": [
    "#Copy function\n",
    "a = [1,2,3,4,5,6,7,8,9,10,11]\n",
    "a.copy()"
   ]
  },
  {
   "cell_type": "code",
   "execution_count": 25,
   "id": "716d46bb",
   "metadata": {},
   "outputs": [
    {
     "name": "stdout",
     "output_type": "stream",
     "text": [
      "[1, 2, 3, 4, 5, 6, 7, 8, 9, 10, 11]\n",
      "[1, 2, 3, 4, 5, 6, 7, 8, 9, 10, 11, 1, 2, 3, 4, 5, 6, 7, 8, 9, 10, 11]\n"
     ]
    }
   ],
   "source": [
    "#Extend function\n",
    "print(a)\n",
    "a.extend(a)\n",
    "print(a)"
   ]
  },
  {
   "cell_type": "code",
   "execution_count": 26,
   "id": "86a48b69",
   "metadata": {},
   "outputs": [
    {
     "name": "stdout",
     "output_type": "stream",
     "text": [
      "[1, 2, 3, 4, 5, 6, 7, 8, 9, 10]\n",
      "8\n",
      "10\n"
     ]
    }
   ],
   "source": [
    "#Index function\n",
    "a = [1,2,3,4,5,6,7,8,9,10]\n",
    "print(a)\n",
    "print(a.index(9))\n",
    "print(a[9])"
   ]
  },
  {
   "cell_type": "code",
   "execution_count": 27,
   "id": "5a50eb7c",
   "metadata": {},
   "outputs": [
    {
     "name": "stdout",
     "output_type": "stream",
     "text": [
      "[1, 2, 3, 4, 5, 6, 7, 8, 9, 10]\n",
      "[1, 2, 3, 4, 5, 6, 7, 8, 9, 123, 10]\n"
     ]
    }
   ],
   "source": [
    "#Insert function\n",
    "a = [1,2,3,4,5,6,7,8,9,10]\n",
    "print(a)\n",
    "a.insert(9,123)\n",
    "print(a)"
   ]
  },
  {
   "cell_type": "code",
   "execution_count": 28,
   "id": "12afa3d5",
   "metadata": {},
   "outputs": [
    {
     "name": "stdout",
     "output_type": "stream",
     "text": [
      "[1, 2, 3, 4, 5, 6, 7, 8, 9, 10]\n",
      "[2, 3, 4, 5, 6, 7, 8, 9, 10]\n"
     ]
    }
   ],
   "source": [
    "#Pop function\n",
    "# it removes the given position element in your list & if not given it removes the last element\n",
    "a = [1,2,3,4,5,6,7,8,9,10]\n",
    "\n",
    "print(a)\n",
    "a.pop(0)\n",
    "print(a)"
   ]
  },
  {
   "cell_type": "code",
   "execution_count": 29,
   "id": "592e8c5c",
   "metadata": {},
   "outputs": [
    {
     "name": "stdout",
     "output_type": "stream",
     "text": [
      "[1, 2, 3, 4, 5, 6, 7, 8, 9, 10]\n",
      "[10, 9, 8, 7, 6, 5, 4, 3, 2, 1]\n"
     ]
    }
   ],
   "source": [
    "#Reverse function\n",
    "a = [1,2,3,4,5,6,7,8,9,10]\n",
    "print(a)\n",
    "a.reverse()\n",
    "print(a)"
   ]
  },
  {
   "cell_type": "code",
   "execution_count": 30,
   "id": "35b746bd",
   "metadata": {},
   "outputs": [
    {
     "name": "stdout",
     "output_type": "stream",
     "text": [
      "[9, 5, 4, 3, 2, 6, 7, 8, 1]\n",
      "[1, 2, 3, 4, 5, 6, 7, 8, 9]\n"
     ]
    }
   ],
   "source": [
    "#Sort function\n",
    "a = [9,5,4,3,2,6,7,8,1]\n",
    "print(a)\n",
    "#a.sort(reverse=True)\n",
    "a.sort(reverse = False)\n",
    "print(a)"
   ]
  },
  {
   "cell_type": "code",
   "execution_count": 31,
   "id": "642ed215",
   "metadata": {},
   "outputs": [
    {
     "name": "stdout",
     "output_type": "stream",
     "text": [
      "[1, 2, 3, 4, 5, 6, 7, 8, 9, 10]\n",
      "[1, 'rohit', 'sahil', 4, 5, 6, 7, 8, 9, 10]\n"
     ]
    }
   ],
   "source": [
    "a = [1,2,3,4,5,6,7,8,9,10]\n",
    "print(a)\n",
    "a[1:3] = [\"rohit\", \"sahil\"]\n",
    "print(a)"
   ]
  },
  {
   "cell_type": "code",
   "execution_count": 32,
   "id": "0d47f3a1",
   "metadata": {},
   "outputs": [
    {
     "data": {
      "text/plain": [
       "4"
      ]
     },
     "execution_count": 32,
     "metadata": {},
     "output_type": "execute_result"
    }
   ],
   "source": [
    "#count function\n",
    "a = [1,2,3,4,5,6,7,8,8,8,8,9]\n",
    "a.count(8)"
   ]
  },
  {
   "cell_type": "markdown",
   "id": "bfb63e2d",
   "metadata": {},
   "source": [
    "## Tuple\n",
    "\n",
    "1. Tuple is immutable\n",
    "2. To operate on tuple firstly you have to convert it into list"
   ]
  },
  {
   "cell_type": "code",
   "execution_count": 33,
   "id": "d5634eb3",
   "metadata": {},
   "outputs": [
    {
     "name": "stdout",
     "output_type": "stream",
     "text": [
      "[1, 2, 3, 4, 5, 6, 7, 8, 9]\n",
      "<class 'list'>\n",
      "(1, 2, 3, 4, 5, 6, 7, 8, 9)\n",
      "<class 'tuple'>\n"
     ]
    }
   ],
   "source": [
    "#List to tuple\n",
    "a = [1,2,3,4,5,6,7,8,9]\n",
    "print(a)\n",
    "print(type(a))\n",
    "\n",
    "b = tuple(a)\n",
    "print(b)\n",
    "print(type(b))"
   ]
  },
  {
   "cell_type": "code",
   "execution_count": 34,
   "id": "119d9f15",
   "metadata": {},
   "outputs": [
    {
     "name": "stdout",
     "output_type": "stream",
     "text": [
      "(1, 2, 3, 4, 5, 6, 7, 8, 9)\n",
      "<class 'tuple'>\n",
      "[1, 2, 3, 4, 5, 6, 7, 8, 9]\n",
      "<class 'list'>\n"
     ]
    }
   ],
   "source": [
    "#Tuple to list\n",
    "a = (1,2,3,4,5,6,7,8,9)\n",
    "print(a)\n",
    "print(type(a))\n",
    "\n",
    "b = list(a)\n",
    "print(b)\n",
    "print(type(b))"
   ]
  },
  {
   "cell_type": "code",
   "execution_count": 35,
   "id": "45274ed0",
   "metadata": {},
   "outputs": [
    {
     "name": "stdout",
     "output_type": "stream",
     "text": [
      "('apple', 'banana', 'mango', 'orange')\n",
      "<class 'tuple'> \n",
      "\n",
      "['apple', 'banana', 'mango', 'orange']\n",
      "<class 'list'> \n",
      "\n",
      "['apple', 'banana', 'mango', 'orange', 'grapes'] \n",
      "\n",
      "('apple', 'banana', 'mango', 'orange', 'grapes')\n",
      "<class 'tuple'>\n"
     ]
    }
   ],
   "source": [
    "# .append in tuple\n",
    "# since tuple is immutable you can't change the value inside \n",
    "# to change the value you have to convert tuple into list and then make changes in it according to you \n",
    "\n",
    "a = (\"apple\",\"banana\",\"mango\",\"orange\")\n",
    "print(a)\n",
    "print(type(a),\"\\n\")\n",
    "\n",
    "b = list(a)\n",
    "print(b)\n",
    "print(type(b),\"\\n\")\n",
    "\n",
    "b.append(\"grapes\")\n",
    "print(b,\"\\n\")\n",
    "\n",
    "c = tuple(b)\n",
    "print(c)\n",
    "print(type(c))"
   ]
  },
  {
   "cell_type": "code",
   "execution_count": 36,
   "id": "5dfa6d7c",
   "metadata": {},
   "outputs": [
    {
     "name": "stdout",
     "output_type": "stream",
     "text": [
      "(10, 20, 30, 40, 50, 60, 70, 80, 90)\n",
      "<class 'tuple'> \n",
      "\n",
      "[10, 20, 30, 40, 50, 60, 70, 80, 90]\n",
      "<class 'list'> \n",
      "\n",
      "[]\n"
     ]
    }
   ],
   "source": [
    "# .clear in tuple\n",
    "# it clears all the elements in list\n",
    "a = (10,20,30,40,50,60,70,80,90)\n",
    "print(a)\n",
    "print(type(a),\"\\n\")\n",
    "\n",
    "b = list(a)\n",
    "print(b)\n",
    "print(type(b),\"\\n\")\n",
    "\n",
    "b.clear()\n",
    "print(b)"
   ]
  },
  {
   "cell_type": "code",
   "execution_count": 37,
   "id": "d4662745",
   "metadata": {},
   "outputs": [
    {
     "name": "stdout",
     "output_type": "stream",
     "text": [
      "(10, 20, 30, 40, 50, 60, 70, 80, 90)\n",
      "<class 'tuple'> \n",
      "\n",
      "[10, 20, 30, 40, 50, 60, 70, 80, 90]\n",
      "<class 'list'> \n",
      "\n",
      "[10, 20, 30, 40, 50, 60, 70, 80, 90]\n"
     ]
    }
   ],
   "source": [
    "# .copy in tuple\n",
    "# it creates a copy of your elements\n",
    "a = (10,20,30,40,50,60,70,80,90)\n",
    "print(a)\n",
    "print(type(a),\"\\n\")\n",
    "\n",
    "b = list(a)\n",
    "print(b)\n",
    "print(type(b),\"\\n\")\n",
    "\n",
    "b.copy()\n",
    "print(b)"
   ]
  },
  {
   "cell_type": "code",
   "execution_count": 38,
   "id": "dd637fb7",
   "metadata": {},
   "outputs": [
    {
     "name": "stdout",
     "output_type": "stream",
     "text": [
      "(10, 20, 30, 40, 50, 60, 70, 80, 80, 80, 80, 90)\n",
      "<class 'tuple'> \n",
      "\n",
      "[10, 20, 30, 40, 50, 60, 70, 80, 80, 80, 80, 90]\n",
      "<class 'list'> \n",
      "\n"
     ]
    },
    {
     "data": {
      "text/plain": [
       "4"
      ]
     },
     "execution_count": 38,
     "metadata": {},
     "output_type": "execute_result"
    }
   ],
   "source": [
    "# .count in tuple\n",
    "# it counts the one or duplicate elements in your list\n",
    "a = (10,20,30,40,50,60,70,80,80,80,80,90)\n",
    "print(a)\n",
    "print(type(a),\"\\n\")\n",
    "\n",
    "b = list(a)\n",
    "print(b)\n",
    "print(type(b),\"\\n\")\n",
    "\n",
    "b.count(80)"
   ]
  },
  {
   "cell_type": "code",
   "execution_count": 39,
   "id": "539a23f0",
   "metadata": {},
   "outputs": [
    {
     "name": "stdout",
     "output_type": "stream",
     "text": [
      "(10, 20, 30, 40, 50, 60, 70, 80, 90)\n",
      "<class 'tuple'> \n",
      "\n",
      "[10, 20, 30, 40, 50, 60, 70, 80, 90]\n",
      "<class 'list'> \n",
      "\n",
      "[10, 20, 30, 40, 50, 60, 70, 80, 90, 100, 110, 120, 130, 140, 150]\n"
     ]
    }
   ],
   "source": [
    "# .extend in tuple\n",
    "# you can combine your two lists using .extend\n",
    "a = (10,20,30,40,50,60,70,80,90)\n",
    "print(a)\n",
    "print(type(a),\"\\n\")\n",
    "\n",
    "c = [100,110,120,130,140,150]\n",
    "\n",
    "b = list(a)\n",
    "print(b)\n",
    "print(type(b),\"\\n\")\n",
    "\n",
    "b.extend(c)\n",
    "print(b)"
   ]
  },
  {
   "cell_type": "code",
   "execution_count": 40,
   "id": "a339ed92",
   "metadata": {},
   "outputs": [
    {
     "name": "stdout",
     "output_type": "stream",
     "text": [
      "(10, 20, 30, 40, 50, 60, 70, 80, 90)\n",
      "<class 'tuple'> \n",
      "\n",
      "[10, 20, 30, 40, 50, 60, 70, 80, 90]\n",
      "<class 'list'> \n",
      "\n"
     ]
    },
    {
     "data": {
      "text/plain": [
       "4"
      ]
     },
     "execution_count": 40,
     "metadata": {},
     "output_type": "execute_result"
    }
   ],
   "source": [
    "# .index in tuple\n",
    "# it gives the index of given value\n",
    "a = (10,20,30,40,50,60,70,80,90)\n",
    "print(a)\n",
    "print(type(a),\"\\n\")\n",
    "\n",
    "b = list(a)\n",
    "print(b)\n",
    "print(type(b),\"\\n\") \n",
    "\n",
    "b.index(50)"
   ]
  },
  {
   "cell_type": "code",
   "execution_count": 41,
   "id": "24deebd9",
   "metadata": {},
   "outputs": [
    {
     "name": "stdout",
     "output_type": "stream",
     "text": [
      "(10, 20, 30, 40, 50, 60, 70, 80, 90)\n",
      "<class 'tuple'> \n",
      "\n",
      "[10, 20, 30, 40, 50, 60, 70, 80, 90]\n",
      "<class 'list'> \n",
      "\n",
      "[10, 20, 30, 40, 50, 60, 70, 80, 90, 'hi']\n",
      "[10, 20, 30, 40, 50, 60, 70, 80, 90, 'hi', 100]\n"
     ]
    }
   ],
   "source": [
    "# .insert in tuple\n",
    "# with this you can insert any value or element at any specified loction in list\n",
    "a = (10,20,30,40,50,60,70,80,90)\n",
    "print(a)\n",
    "print(type(a),\"\\n\")\n",
    "\n",
    "b = list(a)\n",
    "print(b)\n",
    "print(type(b),\"\\n\")\n",
    "\n",
    "b.insert(9,\"hi\")\n",
    "print(b)\n",
    "\n",
    "b.insert(10,100)\n",
    "print(b)"
   ]
  },
  {
   "cell_type": "code",
   "execution_count": 42,
   "id": "392f416f",
   "metadata": {},
   "outputs": [
    {
     "name": "stdout",
     "output_type": "stream",
     "text": [
      "(10, 20, 30, 40, 50, 60, 70, 80, 90)\n",
      "<class 'tuple'> \n",
      "\n",
      "[10, 20, 30, 40, 50, 60, 70, 80, 90]\n",
      "<class 'list'> \n",
      "\n",
      "[10, 20, 30, 40, 50, 60, 70, 80]\n"
     ]
    }
   ],
   "source": [
    "# .pop in tuple\n",
    "# it removes the given position element in your list & if not given it removes the last element\n",
    "a = (10,20,30,40,50,60,70,80,90)\n",
    "print(a)\n",
    "print(type(a),\"\\n\")\n",
    "\n",
    "b = list(a)\n",
    "print(b)\n",
    "print(type(b),\"\\n\")\n",
    "\n",
    "b.pop()\n",
    "print(b)"
   ]
  },
  {
   "cell_type": "code",
   "execution_count": 43,
   "id": "ea2517ae",
   "metadata": {},
   "outputs": [
    {
     "name": "stdout",
     "output_type": "stream",
     "text": [
      "(10, 20, 30, 40, 50, 60, 70, 80, 90)\n",
      "<class 'tuple'> \n",
      "\n",
      "[10, 20, 30, 40, 50, 60, 70, 80, 90]\n",
      "<class 'list'> \n",
      "\n",
      "[10, 20, 30, 40, 50, 60, 70, 90]\n"
     ]
    }
   ],
   "source": [
    "# .remove in tuple\n",
    "# with this you can remove any element in your list\n",
    "a = (10,20,30,40,50,60,70,80,90)\n",
    "print(a)\n",
    "print(type(a),\"\\n\")\n",
    "\n",
    "b = list(a)\n",
    "print(b)\n",
    "print(type(b),\"\\n\")\n",
    "\n",
    "b.remove(80)\n",
    "print(b)"
   ]
  },
  {
   "cell_type": "code",
   "execution_count": 44,
   "id": "f99ca488",
   "metadata": {},
   "outputs": [
    {
     "name": "stdout",
     "output_type": "stream",
     "text": [
      "(10, 20, 30, 40, 50, 60, 70, 80, 90)\n",
      "<class 'tuple'> \n",
      "\n",
      "[10, 20, 30, 40, 50, 60, 70, 80, 90]\n",
      "<class 'list'> \n",
      "\n",
      "[90, 80, 70, 60, 50, 40, 30, 20, 10]\n"
     ]
    }
   ],
   "source": [
    "# .reverse in tuple\n",
    "# it reverse your list\n",
    "a = (10,20,30,40,50,60,70,80,90)\n",
    "print(a)\n",
    "print(type(a),\"\\n\")\n",
    "\n",
    "b = list(a)\n",
    "print(b)\n",
    "print(type(b),\"\\n\")\n",
    "\n",
    "b.reverse()\n",
    "print(b)"
   ]
  },
  {
   "cell_type": "code",
   "execution_count": 45,
   "id": "e21de8a1",
   "metadata": {},
   "outputs": [
    {
     "name": "stdout",
     "output_type": "stream",
     "text": [
      "(20, 40, 60, 80, 10, 30, 50, 70, 90)\n",
      "<class 'tuple'> \n",
      "\n",
      "[20, 40, 60, 80, 10, 30, 50, 70, 90]\n",
      "<class 'list'> \n",
      "\n",
      "[10, 20, 30, 40, 50, 60, 70, 80, 90] \n",
      "\n",
      "(20, 40, 60, 80, 10, 30, 50, 70, 90)\n",
      "<class 'tuple'> \n",
      "\n",
      "[20, 40, 60, 80, 10, 30, 50, 70, 90]\n",
      "<class 'list'> \n",
      "\n",
      "[90, 80, 70, 60, 50, 40, 30, 20, 10] \n",
      "\n",
      "[10, 20, 30, 40, 50, 60, 70, 80, 90] \n",
      "\n"
     ]
    }
   ],
   "source": [
    "# .sort in tuple\n",
    "# it sorts your list in asscending order\n",
    "a = (20,40,60,80,10,30,50,70,90)\n",
    "print(a)\n",
    "print(type(a),\"\\n\")\n",
    "\n",
    "b = list(a)\n",
    "print(b)\n",
    "print(type(b),\"\\n\")\n",
    "\n",
    "b.sort()\n",
    "print(b,\"\\n\")\n",
    "\n",
    "# optional\n",
    "# .reverse=True will sort the list descending\n",
    "# .reverse=False will sort the list asscending\n",
    "a = (20,40,60,80,10,30,50,70,90)\n",
    "print(a)\n",
    "print(type(a),\"\\n\")\n",
    "\n",
    "b = list(a)\n",
    "print(b)\n",
    "print(type(b),\"\\n\")\n",
    "\n",
    "b.sort(reverse=True)\n",
    "print(b,\"\\n\")\n",
    "\n",
    "\n",
    "b.sort(reverse=False)\n",
    "print(b,\"\\n\")"
   ]
  },
  {
   "cell_type": "markdown",
   "id": "812145ff",
   "metadata": {},
   "source": [
    "## Set\n",
    "* Set is un-ordered collection of elements\n",
    "* It is mutale and growable\n",
    "* it is unchangable\n",
    "* { } represents a set\n",
    "* Since it is un-ordered, index application is not applicable\n",
    "* Duplicates are not allowed\n",
    " \n",
    " There are 18 methods in set function as follow:-\n",
    "1.  add  \n",
    "2.  clear\n",
    "3.  copy\n",
    "4.  difference\n",
    "5.  difference_update\n",
    "6.  discard\n",
    "7.  intersection\n",
    "8.  intersection_update\n",
    "9.  isdisjoint\n",
    "10. issubset\n",
    "11. issuperset\n",
    "12. mro\n",
    "13. pop\n",
    "14. remove\n",
    "15. symmetric_difference\n",
    "16. symmetric_difference_update\n",
    "17. union\n",
    "18. update"
   ]
  },
  {
   "cell_type": "code",
   "execution_count": 46,
   "id": "e7e62272",
   "metadata": {},
   "outputs": [
    {
     "name": "stdout",
     "output_type": "stream",
     "text": [
      "{1, 2, 3, 4, 5, 6, 'mango', 'orange', 1.2, 2.3, 3.4, 'banana', 'apple'} \n",
      "\n",
      "{1, 2, 3, 4, 5, 6, 'mango', 'orange', 1.2, 2.3, 3.4, 'banana', 'apple', 'root'}\n"
     ]
    }
   ],
   "source": [
    "# .add in set\n",
    "# with this we can add any element at any random position in set\n",
    "a = {1,2,3,4,5,6,\"apple\",'banana','mango','orange',1.2,2.3,3.4}\n",
    "print(a,\"\\n\")\n",
    "\n",
    "a.add(\"root\")\n",
    "print(a)"
   ]
  },
  {
   "cell_type": "code",
   "execution_count": 47,
   "id": "05a106b8",
   "metadata": {},
   "outputs": [
    {
     "name": "stdout",
     "output_type": "stream",
     "text": [
      "{1, 2, 3, 4, 5, 6, 'mango', 'orange', 1.2, 2.3, 3.4, 'banana', 'apple'} \n",
      "\n",
      "set()\n"
     ]
    }
   ],
   "source": [
    "# .clear in set\n",
    "# it clears your entire set \n",
    "a = {1,2,3,4,5,6,\"apple\",'banana','mango','orange',1.2,2.3,3.4}\n",
    "print(a,\"\\n\")\n",
    "\n",
    "a.clear()\n",
    "print(a)"
   ]
  },
  {
   "cell_type": "code",
   "execution_count": 48,
   "id": "20c36bac",
   "metadata": {},
   "outputs": [
    {
     "name": "stdout",
     "output_type": "stream",
     "text": [
      "{1, 2, 3, 4, 5, 6, 'mango', 'orange', 1.2, 2.3, 3.4, 'banana', 'apple'} \n",
      "\n"
     ]
    },
    {
     "data": {
      "text/plain": [
       "{1, 1.2, 2, 2.3, 3, 3.4, 4, 5, 6, 'apple', 'banana', 'mango', 'orange'}"
      ]
     },
     "execution_count": 48,
     "metadata": {},
     "output_type": "execute_result"
    }
   ],
   "source": [
    "# .copy in set\n",
    "# it copies your entire set\n",
    "a = {1,2,3,4,5,6,\"apple\",'banana','mango','orange',1.2,2.3,3.4}\n",
    "print(a,\"\\n\")\n",
    "\n",
    "a.copy()"
   ]
  },
  {
   "cell_type": "code",
   "execution_count": 49,
   "id": "f90318cf",
   "metadata": {},
   "outputs": [
    {
     "name": "stdout",
     "output_type": "stream",
     "text": [
      "{1, 2, 3, 4, 5, 6, 'mango', 'orange', 1.2, 2.3, 3.4, 'apple'}\n"
     ]
    }
   ],
   "source": [
    "# .remove in set\n",
    "# it removes a given element in set\n",
    "# if given element is not there it will raise an error\n",
    "a = {1,2,3,4,5,6,\"apple\",'banana','mango','orange',1.2,2.3,3.4}\n",
    "\n",
    "a.remove('banana')\n",
    "print(a)"
   ]
  },
  {
   "cell_type": "code",
   "execution_count": 50,
   "id": "e087ebc3",
   "metadata": {},
   "outputs": [
    {
     "name": "stdout",
     "output_type": "stream",
     "text": [
      "{1, 2, 3, 4, 5, 6, 'mango', 1.2, 2.3, 3.4, 'banana', 'apple'}\n"
     ]
    }
   ],
   "source": [
    "# .discard in set\n",
    "# it too removes the given element in set\n",
    "# but it will not raise an error if given element is not there in set\n",
    "a = {1,2,3,4,5,6,\"apple\",'banana','mango','orange',1.2,2.3,3.4}\n",
    "\n",
    "a.discard(\"orange\")\n",
    "print(a)"
   ]
  },
  {
   "cell_type": "code",
   "execution_count": 51,
   "id": "5141c4d9",
   "metadata": {},
   "outputs": [
    {
     "name": "stdout",
     "output_type": "stream",
     "text": [
      "{'mango', 4, 5, 6, 199, 2.3, 3.4, 'banana', 12, 'apple', 87, 762}\n",
      "orange\n"
     ]
    }
   ],
   "source": [
    "# .pop in set\n",
    "# it will remove any random element in set\n",
    "a = {199,762,87,4,5,6,\"apple\",'banana','mango','orange',12,2.3,3.4}\n",
    "\n",
    "b = a.pop()\n",
    "print(a)\n",
    "print(b)"
   ]
  },
  {
   "cell_type": "code",
   "execution_count": 52,
   "id": "6a72cdb7",
   "metadata": {},
   "outputs": [
    {
     "name": "stdout",
     "output_type": "stream",
     "text": [
      "{1, 2, 3, 4, 5, 6}\n",
      "{5, 6, 7, 8, 9, 10}\n",
      "{1, 2, 3, 4, 5, 6, 7, 8, 9, 10}\n"
     ]
    }
   ],
   "source": [
    "# .union in set\n",
    "# return a set containing the union of sets\n",
    "a = {1,2,3,4,5,6}\n",
    "b = {5,6,7,8,9,10}\n",
    "print(a)\n",
    "print(b)\n",
    "\n",
    "x = a.union(b)\n",
    "print(x)"
   ]
  },
  {
   "cell_type": "code",
   "execution_count": 53,
   "id": "8a60fc45",
   "metadata": {},
   "outputs": [
    {
     "name": "stdout",
     "output_type": "stream",
     "text": [
      "{100, 40, 200, 10, 300, 400, 50, 20, 500, 30} \n",
      "\n",
      "{'orange', 'mango', 100, 40, 200, 10, 300, 'banana', 400, 'apple', 50, 20, 500, 'papaya', 30}\n"
     ]
    }
   ],
   "source": [
    "# .update in set\n",
    "a = {10,20,30,40,50}\n",
    "b = {100,200,300,400,500}\n",
    "c = {'apple','banana','mango','orange','papaya'}\n",
    "a.update(b)\n",
    "print(a,\"\\n\")\n",
    "\n",
    "a.update(c)\n",
    "print(a)"
   ]
  },
  {
   "cell_type": "code",
   "execution_count": 54,
   "id": "3f7d70e1",
   "metadata": {},
   "outputs": [
    {
     "data": {
      "text/plain": [
       "{100, 200}"
      ]
     },
     "execution_count": 54,
     "metadata": {},
     "output_type": "execute_result"
    }
   ],
   "source": [
    "# .intersection\n",
    "# it returns a set of common elements in all the sets given\n",
    "a = {100,200,515,645}\n",
    "b = {234,100,234,454,200}\n",
    "c = {100,2,3,4,5,200,345,5,654,456}\n",
    "\n",
    "a.intersection(b,c)"
   ]
  },
  {
   "cell_type": "code",
   "execution_count": 55,
   "id": "59e8f78a",
   "metadata": {},
   "outputs": [
    {
     "name": "stdout",
     "output_type": "stream",
     "text": [
      "{'apple'}\n"
     ]
    }
   ],
   "source": [
    "# .intersection_update\n",
    "# it removes the elements that are not present in other sets\n",
    "a = {'apple','banana','mango'}\n",
    "b = {'cherry','orange','apple'}\n",
    "c = {'papaya','apple','grapes'}\n",
    "\n",
    "a.intersection_update(b,c)\n",
    "print(a)"
   ]
  },
  {
   "cell_type": "code",
   "execution_count": 56,
   "id": "78bcab8b",
   "metadata": {},
   "outputs": [
    {
     "name": "stdout",
     "output_type": "stream",
     "text": [
      "True\n",
      "False\n"
     ]
    }
   ],
   "source": [
    "# .isdisjoint\n",
    "# it checks if two sets have any elements in common\n",
    "set1 = {1, 2, 3}\n",
    "set2 = {4, 5, 6}\n",
    "set3 = {3, 4, 5}\n",
    "\n",
    "print(set1.isdisjoint(set2))\n",
    "print(set1.isdisjoint(set3)) "
   ]
  },
  {
   "cell_type": "code",
   "execution_count": 57,
   "id": "ca34b66b",
   "metadata": {},
   "outputs": [
    {
     "name": "stdout",
     "output_type": "stream",
     "text": [
      "True\n",
      "False\n"
     ]
    }
   ],
   "source": [
    "# .issubset\n",
    "# it checks if one set is a subset of another set\n",
    "set1 = {1, 2, 3}\n",
    "set2 = {1, 2}\n",
    "set3 = {4, 5}\n",
    "\n",
    "print(set2.issubset(set1))\n",
    "print(set3.issubset(set1))"
   ]
  },
  {
   "cell_type": "code",
   "execution_count": 58,
   "id": "487fbb79",
   "metadata": {},
   "outputs": [
    {
     "name": "stdout",
     "output_type": "stream",
     "text": [
      "True\n",
      "False\n"
     ]
    }
   ],
   "source": [
    "# .issuperset\n",
    "# it checks if one set is a superset of another set\n",
    "set1 = {1, 2, 3}\n",
    "set2 = {1, 2}\n",
    "set3 = {4, 5}\n",
    "\n",
    "print(set1.issuperset(set2))\n",
    "print(set1.issuperset(set3))"
   ]
  },
  {
   "cell_type": "code",
   "execution_count": 59,
   "id": "699ad31c",
   "metadata": {},
   "outputs": [
    {
     "name": "stdout",
     "output_type": "stream",
     "text": [
      "{1, 2, 5, 6}\n"
     ]
    }
   ],
   "source": [
    "# .symmetric_difference\n",
    "# it checks if elements that are unique to each of two sets\n",
    "set1 = {1, 2, 3, 4}\n",
    "set2 = {3, 4, 5, 6}\n",
    "\n",
    "result_set = set1.symmetric_difference(set2)\n",
    "\n",
    "print(result_set)"
   ]
  },
  {
   "cell_type": "code",
   "execution_count": 60,
   "id": "b2315573",
   "metadata": {},
   "outputs": [
    {
     "name": "stdout",
     "output_type": "stream",
     "text": [
      "{1, 2, 5, 6}\n"
     ]
    }
   ],
   "source": [
    "# .symmetric_difference_update\n",
    "# this method is useful for updating a set with the elements that are unique to each of two sets\n",
    "set1 = {1, 2, 3, 4}\n",
    "set2 = {3, 4, 5, 6}\n",
    "\n",
    "set1.symmetric_difference_update(set2)\n",
    "\n",
    "print(set1)"
   ]
  },
  {
   "cell_type": "markdown",
   "id": "ca3a1706",
   "metadata": {},
   "source": [
    "## Dictionary"
   ]
  },
  {
   "cell_type": "markdown",
   "id": "4f0748a9",
   "metadata": {},
   "source": [
    "1. Stores value/elements in key : value pair\n",
    "2. It is ordered,changeable and does not allow duplicates\n",
    "3. { } are used to write dictionaries\n",
    "4. Items are accsesed by using keys"
   ]
  },
  {
   "cell_type": "code",
   "execution_count": 61,
   "id": "ccad5841",
   "metadata": {},
   "outputs": [
    {
     "name": "stdout",
     "output_type": "stream",
     "text": [
      "{'name1': 'Rohit', 'name2': 'Sahil', 'name3': 'Tejas', 'name4': 'Ronit'}\n",
      "<class 'dict'> \n",
      "\n",
      "Tejas \n",
      "\n"
     ]
    },
    {
     "data": {
      "text/plain": [
       "'Sahil'"
      ]
     },
     "execution_count": 61,
     "metadata": {},
     "output_type": "execute_result"
    }
   ],
   "source": [
    "# accessing specific key using direct & get method\n",
    "a = {\n",
    "    \"name1\" : \"Rohit\",\n",
    "    \"name2\" : \"Sahil\",\n",
    "    \"name3\" : \"Tejas\",\n",
    "    \"name4\" : \"Ronit\"\n",
    "}\n",
    "print(a)\n",
    "print(type(a),\"\\n\")\n",
    "# using direct method\n",
    "\n",
    "print(a[\"name3\"],\"\\n\")\n",
    "\n",
    "# using get method\n",
    "\n",
    "a.get(\"name2\")"
   ]
  },
  {
   "cell_type": "code",
   "execution_count": 62,
   "id": "e3463426",
   "metadata": {},
   "outputs": [
    {
     "name": "stdout",
     "output_type": "stream",
     "text": [
      "{'Name': 'Rohit', 'Roll no.': 52, 'Class': 'T.Y B.com', 'Percentage': 78.98} \n",
      "\n",
      "Keys in Dict1:\n",
      "dict_keys(['Name', 'Roll no.', 'Class', 'Percentage']) \n",
      "\n",
      "Values in Dict1:\n",
      "dict_values(['Rohit', 52, 'T.Y B.com', 78.98])\n"
     ]
    }
   ],
   "source": [
    "# accessing keys and values using .keys & .values method\n",
    "Dict1 = {\n",
    "    \"Name\" : \"Rohit\",\n",
    "    \"Roll no.\" : 52,\n",
    "    \"Class\" : \"T.Y B.com\",\n",
    "    \"Percentage\" : 78.98\n",
    "}\n",
    "print(Dict1,\"\\n\")\n",
    "\n",
    "# accessing keys in dictonary\n",
    "print('Keys in Dict1:')\n",
    "print(Dict1.keys(),'\\n')\n",
    "\n",
    "# accessing values in dictonary\n",
    "print('Values in Dict1:')\n",
    "print(Dict1.values())"
   ]
  },
  {
   "cell_type": "code",
   "execution_count": 63,
   "id": "1d61ef93",
   "metadata": {
    "scrolled": true
   },
   "outputs": [
    {
     "name": "stdout",
     "output_type": "stream",
     "text": [
      "{'Name': 'Rohit', 'Roll no.': 52, 'Class': 'T.Y B.com', 'Percentage': 78.98} \n",
      "\n",
      "{'Name': 'Rohit', 'Roll no.': 52, 'Class': 'T.Y B.com', 'Percentage': 78.98, 'Mobile no.': 7767827724, 'City': 'Pune', 'Town': 'Khadakwasla'} \n",
      "\n",
      "dict_keys(['Name', 'Roll no.', 'Class', 'Percentage', 'Mobile no.', 'City', 'Town']) \n",
      "\n",
      "dict_values(['Rohit', 52, 'T.Y B.com', 78.98, 7767827724, 'Pune', 'Khadakwasla']) \n",
      "\n",
      "Length of keys: 7\n",
      "Length of values: 7\n"
     ]
    }
   ],
   "source": [
    "# adding elements in dictionary\n",
    "Dict1 = {\n",
    "    \"Name\" : \"Rohit\",\n",
    "    \"Roll no.\" : 52,\n",
    "    \"Class\" : \"T.Y B.com\",\n",
    "    \"Percentage\" : 78.98\n",
    "}\n",
    "print(Dict1,\"\\n\")\n",
    "\n",
    "Dict1['Mobile no.'] = 7767827724\n",
    "Dict1[\"City\"] = \"Pune\"\n",
    "Dict1['Town'] = \"Khadakwasla\"\n",
    "print(Dict1,\"\\n\")\n",
    "\n",
    "print(Dict1.keys(),'\\n')\n",
    "print(Dict1.values(),'\\n')\n",
    "print('Length of keys:',len(Dict1.keys()))\n",
    "print('Length of values:',len(Dict1.values()))"
   ]
  },
  {
   "cell_type": "code",
   "execution_count": 64,
   "id": "4f4fa8d7",
   "metadata": {},
   "outputs": [
    {
     "name": "stdout",
     "output_type": "stream",
     "text": [
      "{'Name': 'Rohit', 'Roll no.': 52, 'Class': 'T.Y B.com', 'Percentage': 78.98, 'Mobile no.': 7767827724, 'City': 'Pune', 'Town': 'Khadakwasla'}\n",
      "\n",
      "\n",
      "{'Name': 'Rohit', 'Roll no.': 45, 'Class': 'T.Y B.com', 'Percentage': 89.71, 'Mobile no.': 7767827724, 'City': 'Pune', 'Town': 'Kolhewadi'}\n"
     ]
    }
   ],
   "source": [
    "# changing values using keys\n",
    "print(Dict1)\n",
    "\n",
    "Dict1['Roll no.'] = 45\n",
    "Dict1['Percentage'] = 89.71\n",
    "Dict1['Town'] = 'Kolhewadi'\n",
    "print('\\n')\n",
    "print(Dict1)"
   ]
  },
  {
   "cell_type": "code",
   "execution_count": 65,
   "id": "c9842e0c",
   "metadata": {},
   "outputs": [
    {
     "name": "stdout",
     "output_type": "stream",
     "text": [
      "dict_items([('Name', 'Rohit'), ('Roll no.', 45), ('Class', 'T.Y B.com'), ('Percentage', 89.71), ('Mobile no.', 7767827724), ('City', 'Pune'), ('Town', 'Kolhewadi')]) \n",
      "\n",
      "dict_items([('Name', 'Rohit'), ('Roll no.', 45), ('Class', 'T.Y B.com'), ('Percentage', 89.71), ('Mobile no.', 7767827724), ('City', 'Pune'), ('Town', 'Kolhewadi'), ('Email Id', 'rohitshede000@gmail.com'), ('Subject', 'English')])\n"
     ]
    }
   ],
   "source": [
    "# .update in dictonary\n",
    "# it adds one or more key:value to the dictonary\n",
    "\n",
    "print(Dict1.items(),'\\n')\n",
    "\n",
    "Dict1.update({\n",
    "    'Email Id' : 'rohitshede000@gmail.com',\n",
    "    'Subject' : \"English\"\n",
    "})\n",
    "print(Dict1.items())"
   ]
  },
  {
   "cell_type": "markdown",
   "id": "bc6ed3dc",
   "metadata": {},
   "source": [
    "## Operators\n",
    "\n",
    "* operators are symbols which perform certain operations\n",
    "    Python operators\n",
    "    \n",
    "1) Arithmetic operators\n",
    "2) Assignment operators\n",
    "3) Comparison operators\n",
    "4) Logical operators\n",
    "5) Identity operators\n",
    "6) Membership operators\n",
    "7) Bitwise operators"
   ]
  },
  {
   "cell_type": "markdown",
   "id": "0463edbc",
   "metadata": {},
   "source": [
    "### Arithmetic operators\n",
    "\n",
    "1) Addition +\n",
    "2) Subtraction -\n",
    "3) Multiplication *\n",
    "4) Division /\n",
    "5) Modulus %\n",
    "6) Exponentiation **\n",
    "7) Floor division //"
   ]
  },
  {
   "cell_type": "code",
   "execution_count": 66,
   "id": "2a07f389",
   "metadata": {
    "scrolled": true
   },
   "outputs": [
    {
     "name": "stdout",
     "output_type": "stream",
     "text": [
      "Addition of x and y: 29 \n",
      "\n",
      "Subtraction of x and y: 15 \n",
      "\n",
      "Multiplication of x and y: 154 \n",
      "\n",
      "Division of x and y: 3.142857142857143 \n",
      "\n",
      "Modulus of x and y: 1 \n",
      "\n",
      "Exponentiation of x and y: 2494357888 \n",
      "\n",
      "Floor division of x and y: 3 \n",
      "\n"
     ]
    }
   ],
   "source": [
    "x = 22\n",
    "y = 7\n",
    "\n",
    "# Addition\n",
    "z = x + y\n",
    "print(\"Addition of x and y:\",z,'\\n')\n",
    "\n",
    "# Subtraction\n",
    "z = x - y\n",
    "print(\"Subtraction of x and y:\",z,'\\n')\n",
    "\n",
    "# Multiplication\n",
    "z = x * y\n",
    "print(\"Multiplication of x and y:\",z,'\\n')\n",
    "\n",
    "# Division\n",
    "z = x / y\n",
    "print(\"Division of x and y:\",z,'\\n')\n",
    "\n",
    "# Modulus\n",
    "z = x % y\n",
    "print(\"Modulus of x and y:\",z,'\\n')\n",
    "\n",
    "# Exponentiation\n",
    "z = x ** y\n",
    "print(\"Exponentiation of x and y:\",z,'\\n')\n",
    "\n",
    "# Floor division\n",
    "z = x // y\n",
    "print(\"Floor division of x and y:\",z,'\\n')"
   ]
  },
  {
   "cell_type": "markdown",
   "id": "13f093fc",
   "metadata": {},
   "source": [
    "## Assignment operators\n",
    "\n",
    "1) simple assign     (x = 5)\n",
    "2) Add & assign      (x += 5)\n",
    "3) Sub & assign      (x -= 5)\n",
    "4) multi & assign    (x *= 5)\n",
    "5) divide & assign   (x /= 5)\n",
    "6) modulus & assign  (x %= 5)\n",
    "7) floor d & assign  (x //= 5)\n",
    "8) exponent & assign (x **= 5)"
   ]
  },
  {
   "cell_type": "code",
   "execution_count": 67,
   "id": "618b2b70",
   "metadata": {},
   "outputs": [
    {
     "data": {
      "text/plain": [
       "50"
      ]
     },
     "execution_count": 67,
     "metadata": {},
     "output_type": "execute_result"
    }
   ],
   "source": [
    "#simple assign\n",
    "x = 50\n",
    "x"
   ]
  },
  {
   "cell_type": "code",
   "execution_count": 68,
   "id": "149203fb",
   "metadata": {},
   "outputs": [
    {
     "data": {
      "text/plain": [
       "150"
      ]
     },
     "execution_count": 68,
     "metadata": {},
     "output_type": "execute_result"
    }
   ],
   "source": [
    "#Add & assign\n",
    "x += 100\n",
    "x"
   ]
  },
  {
   "cell_type": "code",
   "execution_count": 69,
   "id": "00f2d3f3",
   "metadata": {},
   "outputs": [
    {
     "data": {
      "text/plain": [
       "75"
      ]
     },
     "execution_count": 69,
     "metadata": {},
     "output_type": "execute_result"
    }
   ],
   "source": [
    "#Sub & assign\n",
    "x -= 75\n",
    "x"
   ]
  },
  {
   "cell_type": "code",
   "execution_count": 70,
   "id": "5ce8d1fa",
   "metadata": {},
   "outputs": [
    {
     "data": {
      "text/plain": [
       "375"
      ]
     },
     "execution_count": 70,
     "metadata": {},
     "output_type": "execute_result"
    }
   ],
   "source": [
    "#Multi & assign\n",
    "x *= 5\n",
    "x"
   ]
  },
  {
   "cell_type": "code",
   "execution_count": 71,
   "id": "2bcec0bf",
   "metadata": {},
   "outputs": [
    {
     "data": {
      "text/plain": [
       "37.5"
      ]
     },
     "execution_count": 71,
     "metadata": {},
     "output_type": "execute_result"
    }
   ],
   "source": [
    "#Divide & assign\n",
    "x /= 10\n",
    "x"
   ]
  },
  {
   "cell_type": "code",
   "execution_count": 72,
   "id": "846c9031",
   "metadata": {},
   "outputs": [
    {
     "data": {
      "text/plain": [
       "2.5"
      ]
     },
     "execution_count": 72,
     "metadata": {},
     "output_type": "execute_result"
    }
   ],
   "source": [
    "#Modulo & assign\n",
    "x %= 5\n",
    "x"
   ]
  },
  {
   "cell_type": "code",
   "execution_count": 73,
   "id": "9a4179e8",
   "metadata": {},
   "outputs": [
    {
     "data": {
      "text/plain": [
       "2.0"
      ]
     },
     "execution_count": 73,
     "metadata": {},
     "output_type": "execute_result"
    }
   ],
   "source": [
    "#Floor division & assign\n",
    "x //= 1\n",
    "x"
   ]
  },
  {
   "cell_type": "code",
   "execution_count": 74,
   "id": "5b5c4be2",
   "metadata": {},
   "outputs": [
    {
     "data": {
      "text/plain": [
       "1024.0"
      ]
     },
     "execution_count": 74,
     "metadata": {},
     "output_type": "execute_result"
    }
   ],
   "source": [
    "#Exponent & assign\n",
    "x **= 10\n",
    "x"
   ]
  },
  {
   "cell_type": "markdown",
   "id": "eda55a9a",
   "metadata": {},
   "source": [
    "## Comparison operators\n",
    "1. Equal to:- (==)\n",
    "2. Not equal to:- (!=)\n",
    "3. Greater than:- (>)\n",
    "4. Less than:- (<)\n",
    "5. Greater  than or equal to:- (>=)\n",
    "6. Less than or equal to:- (<=)"
   ]
  },
  {
   "cell_type": "code",
   "execution_count": 75,
   "id": "75161f7c",
   "metadata": {},
   "outputs": [
    {
     "name": "stdout",
     "output_type": "stream",
     "text": [
      "Equal to operator:- False \n",
      "\n",
      "Not equal to operator:- True \n",
      "\n",
      "Greater than operator:- True \n",
      "\n",
      "Less than operator:- False \n",
      "\n",
      "Greater than or equal to operator:- True \n",
      "\n",
      "Less than or equal to operator:- False \n",
      "\n"
     ]
    }
   ],
   "source": [
    "a = 250\n",
    "b = 45\n",
    "\n",
    "print(\"Equal to operator:-\",a == b,'\\n')\n",
    "\n",
    "print(\"Not equal to operator:-\",a != b,'\\n')\n",
    "\n",
    "print(\"Greater than operator:-\",a > b,'\\n')\n",
    "\n",
    "print(\"Less than operator:-\",a < b,'\\n')\n",
    "\n",
    "print(\"Greater than or equal to operator:-\",a >= b,'\\n')\n",
    "\n",
    "print(\"Less than or equal to operator:-\",a <= b,'\\n')"
   ]
  },
  {
   "cell_type": "markdown",
   "id": "14c6b999",
   "metadata": {},
   "source": [
    "## Logical operators\n",
    "\n",
    "1. and   (Returns True if both statements are true)\n",
    "2. or    (Returns True if one of the statements is true)\n",
    "3. not   (Reverse the result, returns False if the result is true)"
   ]
  },
  {
   "cell_type": "code",
   "execution_count": 76,
   "id": "9b74eaea",
   "metadata": {},
   "outputs": [
    {
     "name": "stdout",
     "output_type": "stream",
     "text": [
      "and operator:\n",
      "False\n",
      "True \n",
      "\n",
      "or operator:\n",
      "True\n",
      "False \n",
      "\n",
      "not operator:\n",
      "False\n",
      "True\n"
     ]
    }
   ],
   "source": [
    "x = 10 \n",
    "\n",
    "# and operator  \n",
    "print('and operator:')\n",
    "print(x < 11 and x > 12)\n",
    "print(x < 21 and x > 9,'\\n')\n",
    "\n",
    "# or operator\n",
    "print('or operator:')\n",
    "print(x < 19 or x > 1)\n",
    "print(x < 1 or x > 44,'\\n')\n",
    "\n",
    "# not operator\n",
    "print('not operator:')\n",
    "print(not x < 12)\n",
    "print(not x > 56 )"
   ]
  },
  {
   "cell_type": "markdown",
   "id": "6f497076",
   "metadata": {},
   "source": [
    "## Identity operator \n",
    "\n",
    "1. is (Returns True if both variables are the same object)\n",
    "2. is not (Returns True if both variables are not the same object)"
   ]
  },
  {
   "cell_type": "code",
   "execution_count": 77,
   "id": "fd84dead",
   "metadata": {},
   "outputs": [
    {
     "name": "stdout",
     "output_type": "stream",
     "text": [
      "True \n",
      "\n",
      "False\n"
     ]
    }
   ],
   "source": [
    "# is operator\n",
    "\n",
    "x = 125\n",
    "y = 125\n",
    "print(x is y,'\\n')\n",
    "\n",
    "a = 123\n",
    "b = 987\n",
    "print(a is b)"
   ]
  },
  {
   "cell_type": "code",
   "execution_count": 78,
   "id": "cb305a8c",
   "metadata": {},
   "outputs": [
    {
     "name": "stdout",
     "output_type": "stream",
     "text": [
      "True \n",
      "\n",
      "False\n"
     ]
    }
   ],
   "source": [
    "# is not operator\n",
    "\n",
    "x = 155\n",
    "y = 255\n",
    "print(x is not y,'\\n')\n",
    "\n",
    "a = 100\n",
    "b = 100\n",
    "print(a is not b)"
   ]
  },
  {
   "cell_type": "markdown",
   "id": "17d9ab50",
   "metadata": {},
   "source": [
    "## Membership operators\n",
    "\n",
    "1. in (Returns True if a sequence with the specified value is present in the object)\n",
    "2. not in (Returns True if a sequence with the specified value is not present in the object)"
   ]
  },
  {
   "cell_type": "code",
   "execution_count": 79,
   "id": "9be7a2a4",
   "metadata": {},
   "outputs": [
    {
     "name": "stdout",
     "output_type": "stream",
     "text": [
      "[10, 20, 30, 40, 50, 60, 70, 80, 90] \n",
      "\n",
      "True\n",
      "False\n",
      "True\n",
      "False\n"
     ]
    }
   ],
   "source": [
    "# in \n",
    "# Returns True if a sequence with the specified value is present in the object\n",
    "a = [10,20,30,40,50,60,70,80,90]\n",
    "\n",
    "print(a,'\\n')\n",
    "\n",
    "print(10 in a)\n",
    "print(55 in a)\n",
    "print(90 in a)\n",
    "print(11 in a)\n"
   ]
  },
  {
   "cell_type": "code",
   "execution_count": 80,
   "id": "6b8ffc72",
   "metadata": {},
   "outputs": [
    {
     "name": "stdout",
     "output_type": "stream",
     "text": [
      "[11, 22, 33, 44, 55, 66, 77, 88, 99] \n",
      "\n",
      "False\n",
      "True\n",
      "False\n",
      "True\n"
     ]
    }
   ],
   "source": [
    "# not in\n",
    "# Returns True if a sequence with the specified value is not present in the object\n",
    "a = [11,22,33,44,55,66,77,88,99]\n",
    "\n",
    "print(a,'\\n')\n",
    "\n",
    "print(11 not in a)\n",
    "print(12 not in a)\n",
    "print(88 not in a)\n",
    "print(54 not in a)\n"
   ]
  },
  {
   "cell_type": "markdown",
   "id": "2cefee4b",
   "metadata": {},
   "source": [
    "## Bitwise operators\n",
    "\n",
    "1. (&)\tAND\tSets each bit to 1 if both bits are 1\n",
    "2. (|)\tOR\tSets each bit to 1 if one of two bits is 1\n",
    "3. (^)\tXOR\tSets each bit to 1 if only one of two bits is 1\n",
    "4. (~)\tNOT\tInverts all the bits\n",
    "5. (<<)\tZero fill left shift\tShift left by pushing zeros in from the right and let the leftmost bits fall off\n",
    "6. (>>)\tSigned right shift\tShift right by pushing copies of the leftmost bit in from the left, and let the rightmost bits fall off"
   ]
  },
  {
   "cell_type": "code",
   "execution_count": 81,
   "id": "47b51d22",
   "metadata": {},
   "outputs": [
    {
     "name": "stdout",
     "output_type": "stream",
     "text": [
      "2\n"
     ]
    }
   ],
   "source": [
    "x = 3\n",
    "y = 2\n",
    "\n",
    "z = x & y\n",
    "print(z)"
   ]
  },
  {
   "cell_type": "markdown",
   "id": "2fe3b7e1",
   "metadata": {},
   "source": [
    "# complete it later "
   ]
  },
  {
   "cell_type": "markdown",
   "id": "29fc1876",
   "metadata": {},
   "source": [
    "## Conditional statements and Loops \n",
    "\n",
    "1. if , else\n",
    "2. if , elif , else\n",
    "3. while loop\n",
    "4. for loop"
   ]
  },
  {
   "cell_type": "markdown",
   "id": "da2c4288",
   "metadata": {},
   "source": [
    "### if else"
   ]
  },
  {
   "cell_type": "code",
   "execution_count": 82,
   "id": "47209e7d",
   "metadata": {},
   "outputs": [
    {
     "name": "stdout",
     "output_type": "stream",
     "text": [
      "b is greater than a\n",
      "\n",
      "\n",
      "x is less than y\n",
      "\n",
      "\n",
      "c is equal to d\n"
     ]
    }
   ],
   "source": [
    "# if else condition\n",
    "\n",
    "#1)\n",
    "a = 50\n",
    "b = 75\n",
    "\n",
    "if a > b:\n",
    "    print('a is greater than b')\n",
    "else:\n",
    "    print('b is greater than a')\n",
    "print('\\n')\n",
    "\n",
    "#2)\n",
    "x = 257\n",
    "y = 452\n",
    "\n",
    "if x < y: \n",
    "    print('x is less than y')\n",
    "else:\n",
    "    print('y is greater than x')\n",
    "print('\\n')\n",
    "\n",
    "#3)\n",
    "c = 999\n",
    "d = 999\n",
    "\n",
    "if c != d:\n",
    "    print('c is not equal to d')\n",
    "else:\n",
    "    print('c is equal to d')"
   ]
  },
  {
   "cell_type": "markdown",
   "id": "340a5f47",
   "metadata": {},
   "source": [
    "### if elif else"
   ]
  },
  {
   "cell_type": "code",
   "execution_count": 83,
   "id": "37b6d520",
   "metadata": {},
   "outputs": [
    {
     "name": "stdout",
     "output_type": "stream",
     "text": [
      "a is less than b\n",
      "\n",
      "\n",
      "x is equal to y\n",
      "\n",
      "\n",
      "c is not equal to d\n"
     ]
    }
   ],
   "source": [
    "# if elif else condition\n",
    "# you can add as many elif as you want\n",
    "\n",
    "#1)\n",
    "a = 45\n",
    "b = 67\n",
    "\n",
    "if a > b:\n",
    "    print('a is greater than b')\n",
    "elif a < b:\n",
    "    print('a is less than b')\n",
    "else:\n",
    "    print('b is greater than a')\n",
    "print('\\n')\n",
    "\n",
    "#2)\n",
    "x = 98\n",
    "y = 98\n",
    "\n",
    "if x != y:\n",
    "    print('x is not equal to y')\n",
    "elif x < y:\n",
    "    print('x is less than and equal to y')\n",
    "elif x == y:\n",
    "    print('x is equal to y')\n",
    "else:\n",
    "    print('y is equal to x')\n",
    "print('\\n')    \n",
    "\n",
    "#3)\n",
    "c = 34\n",
    "d = 89\n",
    "\n",
    "if c == d:\n",
    "    print('c is equal to d')\n",
    "elif c > d:\n",
    "    print('c is greater than d')\n",
    "elif d < c:\n",
    "    print('d is less than c')\n",
    "elif c != d:\n",
    "    print('c is not equal to d')\n",
    "else:\n",
    "    print('c is less than d')"
   ]
  },
  {
   "cell_type": "code",
   "execution_count": 84,
   "id": "a5be10f6",
   "metadata": {},
   "outputs": [
    {
     "name": "stdout",
     "output_type": "stream",
     "text": [
      "x is less than y \n",
      "\n",
      "a is equal to b \n",
      "\n",
      "c is greater than d\n"
     ]
    }
   ],
   "source": [
    "# short hand if statement\n",
    "#1)\n",
    "x = 15\n",
    "y = 20\n",
    "\n",
    "if x < y: print('x is less than y','\\n')\n",
    "    \n",
    "#2)\n",
    "a = 23\n",
    "b = 23\n",
    "\n",
    "if a == b: print('a is equal to b','\\n')\n",
    "    \n",
    "#3)\n",
    "c = 78\n",
    "d = 34\n",
    "\n",
    "if c > d: print('c is greater than d')"
   ]
  },
  {
   "cell_type": "code",
   "execution_count": 85,
   "id": "de9fe085",
   "metadata": {},
   "outputs": [
    {
     "name": "stdout",
     "output_type": "stream",
     "text": [
      "x is less than y \n",
      "\n",
      "a is not equal to b \n",
      "\n",
      "c is equal to d \n"
     ]
    }
   ],
   "source": [
    "# short hand if else statement\n",
    "#1)\n",
    "x = 34\n",
    "y = 56\n",
    "\n",
    "print(('x is greater than y'),'\\n')if x > y else print(('x is less than y'),'\\n')\n",
    "\n",
    "#2)\n",
    "a = 54\n",
    "b = 56\n",
    "\n",
    "print (('a is not equal to b'),'\\n') if a != b else print(('a is equal to b'),'\\n')\n",
    "\n",
    "#3)\n",
    "c = 78\n",
    "d = 78\n",
    "\n",
    "print('c is not equal to d') if c != d else print('c is equal to d ')"
   ]
  },
  {
   "cell_type": "code",
   "execution_count": 86,
   "id": "a459e80d",
   "metadata": {},
   "outputs": [],
   "source": [
    "# pass statement\n",
    "\n",
    "x = 78\n",
    "y = 67\n",
    "\n",
    "if x < y:\n",
    "    print(\"x is greater than y\")\n",
    "pass"
   ]
  },
  {
   "cell_type": "markdown",
   "id": "a3decfdd",
   "metadata": {},
   "source": [
    "## while loop"
   ]
  },
  {
   "cell_type": "code",
   "execution_count": 87,
   "id": "4691cabc",
   "metadata": {},
   "outputs": [
    {
     "name": "stdout",
     "output_type": "stream",
     "text": [
      "0\n",
      "1\n",
      "2\n",
      "3\n",
      "4\n",
      "5\n",
      "6\n",
      "7\n",
      "8\n",
      "9\n",
      "10\n"
     ]
    }
   ],
   "source": [
    "# print series of numbers\n",
    "\n",
    "a = 0\n",
    "\n",
    "while a <= 10:\n",
    "    print(a)\n",
    "    a = a + 1"
   ]
  },
  {
   "cell_type": "code",
   "execution_count": 88,
   "id": "c9774df5",
   "metadata": {},
   "outputs": [
    {
     "name": "stdout",
     "output_type": "stream",
     "text": [
      "1\n",
      "2\n",
      "3\n",
      "4\n",
      "5\n",
      "6\n",
      "7\n",
      "8\n",
      "9\n",
      "10\n",
      "11\n",
      "12\n"
     ]
    }
   ],
   "source": [
    "# break statement\n",
    "\n",
    "x = 1\n",
    "\n",
    "while x <= 20:\n",
    "    print(x)\n",
    "    if x == 12:\n",
    "        break\n",
    "    x = x + 1"
   ]
  },
  {
   "cell_type": "code",
   "execution_count": 89,
   "id": "e79fc010",
   "metadata": {},
   "outputs": [
    {
     "name": "stdout",
     "output_type": "stream",
     "text": [
      "1\n",
      "2\n",
      "3\n",
      "4\n",
      "5\n",
      "6\n",
      "7\n",
      "9\n",
      "10\n",
      "11\n",
      "12\n",
      "13\n",
      "14\n",
      "16\n",
      "17\n",
      "18\n",
      "19\n",
      "20\n"
     ]
    }
   ],
   "source": [
    "# continue statement\n",
    "\n",
    "x = 1\n",
    "\n",
    "while x <= 20:\n",
    "    \n",
    "    if x == 15 or x == 8:\n",
    "        x += 1\n",
    "        continue\n",
    "    print(x)\n",
    "    x += 1"
   ]
  },
  {
   "cell_type": "code",
   "execution_count": 90,
   "id": "c079a37e",
   "metadata": {},
   "outputs": [
    {
     "name": "stdout",
     "output_type": "stream",
     "text": [
      "1\n",
      "2\n",
      "3\n",
      "4\n",
      "5\n",
      "6\n",
      "7\n",
      "8\n",
      "9\n",
      "10\n",
      "11\n",
      "13\n",
      "14\n",
      "15\n",
      "16\n",
      "17\n",
      "18\n",
      "19\n",
      "20\n",
      "its enough\n"
     ]
    }
   ],
   "source": [
    "# else below while\n",
    "\n",
    "x = 1\n",
    "\n",
    "while x <= 20:\n",
    "    \n",
    "    if x == 12:\n",
    "        x += 1\n",
    "        continue\n",
    "    print(x)\n",
    "    x += 1\n",
    "else:       \n",
    "    print(\"its enough\")"
   ]
  },
  {
   "cell_type": "code",
   "execution_count": 91,
   "id": "edb26957",
   "metadata": {},
   "outputs": [
    {
     "name": "stdout",
     "output_type": "stream",
     "text": [
      "['apple', 'banana', 'mango', 'cherry', 'papaya', 'strawberry', 'orange'] \n",
      "\n",
      "While loop on list:\n",
      " \n",
      "apple\n",
      "banana\n",
      "mango\n",
      "cherry\n",
      "papaya\n",
      "strawberry\n",
      "orange\n"
     ]
    }
   ],
   "source": [
    "# while loop on list\n",
    "\n",
    "list1 = ['apple','banana','mango','cherry','papaya','strawberry','orange']\n",
    "print(list1,'\\n')\n",
    "\n",
    "print('While loop on list:\\n ')\n",
    "\n",
    "x = 0\n",
    "while x < len(list1):\n",
    "    print(list1[x])\n",
    "    x += 1"
   ]
  },
  {
   "cell_type": "code",
   "execution_count": 92,
   "id": "487207c5",
   "metadata": {},
   "outputs": [
    {
     "name": "stdout",
     "output_type": "stream",
     "text": [
      "('rohit', 'tejas', 'ronit', 'sahil', 'ganesh', 'dhiraj') \n",
      "\n",
      "While loop on tuple:\n",
      " \n",
      "rohit\n",
      "tejas\n",
      "ronit\n",
      "sahil\n",
      "ganesh\n",
      "dhiraj\n"
     ]
    }
   ],
   "source": [
    "# while loop on tuple\n",
    "\n",
    "a = ('rohit','tejas','ronit','sahil','ganesh', 'dhiraj')\n",
    "print(a,'\\n')\n",
    "print('While loop on tuple:\\n ')\n",
    "\n",
    "x = 0\n",
    "while x < len(a):\n",
    "    print(a[x])\n",
    "    x += 1"
   ]
  },
  {
   "cell_type": "markdown",
   "id": "5ea3ba33",
   "metadata": {},
   "source": [
    "## For loop"
   ]
  },
  {
   "cell_type": "code",
   "execution_count": 93,
   "id": "8d697a82",
   "metadata": {},
   "outputs": [
    {
     "name": "stdout",
     "output_type": "stream",
     "text": [
      "rohit\n",
      "tejas\n",
      "ronit\n",
      "sahil\n",
      "ganesh\n",
      "dhiraj\n"
     ]
    }
   ],
   "source": [
    "# for loop\n",
    "\n",
    "a = ('rohit','tejas','ronit','sahil','ganesh', 'dhiraj')\n",
    "\n",
    "for r in a:\n",
    "    print(r)"
   ]
  },
  {
   "cell_type": "code",
   "execution_count": 94,
   "id": "c329262d",
   "metadata": {},
   "outputs": [
    {
     "name": "stdout",
     "output_type": "stream",
     "text": [
      "ganesh\n"
     ]
    }
   ],
   "source": [
    "# if statement in for loop\n",
    "# with this we can print any element in data type\n",
    "a = ('rohit','tejas','ronit','sahil','ganesh', 'dhiraj')\n",
    "\n",
    "for i in a:\n",
    "    if i == \"ganesh\":\n",
    "        print(i)"
   ]
  },
  {
   "cell_type": "code",
   "execution_count": 95,
   "id": "030441ed",
   "metadata": {},
   "outputs": [
    {
     "name": "stdout",
     "output_type": "stream",
     "text": [
      "Python \n",
      "\n",
      "P\n",
      "y\n",
      "t\n",
      "h\n",
      "o\n",
      "n\n"
     ]
    }
   ],
   "source": [
    "## for loop\n",
    "a = \"Python\"\n",
    "print(a,'\\n')\n",
    "\n",
    "for characters in a:\n",
    "    print(characters)"
   ]
  },
  {
   "cell_type": "code",
   "execution_count": 96,
   "id": "78082078",
   "metadata": {},
   "outputs": [
    {
     "name": "stdout",
     "output_type": "stream",
     "text": [
      "10\n",
      "3\n",
      "40\n",
      "89\n",
      "70\n",
      "29\n",
      "10\n",
      "90\n"
     ]
    }
   ],
   "source": [
    "# for loop in tuple\n",
    "\n",
    "a = (10,3,40,67,89,70,29,10,90)\n",
    "\n",
    "for i in a:\n",
    "    \n",
    "    if i == 67:\n",
    "        #break\n",
    "        continue\n",
    "    print(i)"
   ]
  },
  {
   "cell_type": "code",
   "execution_count": 97,
   "id": "38e7a110",
   "metadata": {},
   "outputs": [
    {
     "name": "stdout",
     "output_type": "stream",
     "text": [
      "keys: \n",
      "Name\n",
      "Roll no.\n",
      "Class\n",
      "Percentage\n",
      "\n",
      "\n",
      "values: \n",
      "Rohit\n",
      "52\n",
      "T.Y B.com\n",
      "78.98\n",
      "\n",
      "\n",
      "Another method to print keys and values\n",
      "Name\n",
      "Roll no.\n",
      "Class\n",
      "Percentage\n",
      "\n",
      "\n",
      "Keys and values pairs: \n",
      "Name : Rohit\n",
      "Roll no. : 52\n",
      "Class : T.Y B.com\n",
      "Percentage : 78.98\n"
     ]
    }
   ],
   "source": [
    "# for loop in ditionary\n",
    "\n",
    "Dict1 = {\n",
    "    \"Name\" : \"Rohit\",\n",
    "    \"Roll no.\" : 52,\n",
    "    \"Class\" : \"T.Y B.com\",\n",
    "    \"Percentage\" : 78.98\n",
    "}\n",
    "print('keys: ')\n",
    "for i in Dict1: # it will print keys by default\n",
    "    print(i)\n",
    "print('\\n')\n",
    "\n",
    "print('values: ') # it will print values\n",
    "for i in Dict1:\n",
    "    print(Dict1[i])\n",
    "print('\\n')\n",
    "\n",
    "print('Another method to print keys and values')\n",
    "for keys in Dict1.keys(): # another method to print keys and values \n",
    "    print(keys)\n",
    "print('\\n')\n",
    "    \n",
    "print('Keys and values pairs: ')\n",
    "for keys, values in Dict1.items():\n",
    "    print(keys,':',values)\n"
   ]
  },
  {
   "cell_type": "markdown",
   "id": "84d39bad",
   "metadata": {},
   "source": [
    "## Range function"
   ]
  },
  {
   "cell_type": "code",
   "execution_count": 98,
   "id": "56b3f32e",
   "metadata": {},
   "outputs": [
    {
     "name": "stdout",
     "output_type": "stream",
     "text": [
      "0\n",
      "1\n",
      "2\n",
      "3\n",
      "4\n",
      "5\n",
      "6\n",
      "7\n",
      "8\n",
      "9\n",
      "10\n",
      "11\n",
      "12\n",
      "13\n",
      "14\n",
      "15\n",
      "16\n",
      "17\n",
      "18\n",
      "19\n",
      "20\n"
     ]
    }
   ],
   "source": [
    "# range\n",
    "for i in range(21):\n",
    "    print(i)"
   ]
  },
  {
   "cell_type": "code",
   "execution_count": 99,
   "id": "f3fc516d",
   "metadata": {},
   "outputs": [
    {
     "name": "stdout",
     "output_type": "stream",
     "text": [
      "50\n",
      "51\n",
      "52\n",
      "53\n",
      "54\n",
      "55\n",
      "56\n",
      "57\n",
      "58\n",
      "59\n",
      "60\n"
     ]
    }
   ],
   "source": [
    "# range('val','to value')\n",
    "\n",
    "for i in range(50,61):\n",
    "    print(i)"
   ]
  },
  {
   "cell_type": "code",
   "execution_count": 100,
   "id": "774335a6",
   "metadata": {},
   "outputs": [
    {
     "name": "stdout",
     "output_type": "stream",
     "text": [
      "0\n",
      "2\n",
      "4\n",
      "6\n",
      "8\n",
      "10\n",
      "12\n",
      "14\n",
      "16\n",
      "18\n",
      "20\n"
     ]
    }
   ],
   "source": [
    "# range('val','to value','skip steps value')\n",
    "\n",
    "for i in range(0,21,2):\n",
    "    print(i)"
   ]
  },
  {
   "cell_type": "markdown",
   "id": "52e00fd9",
   "metadata": {},
   "source": [
    "## Def"
   ]
  },
  {
   "cell_type": "code",
   "execution_count": 101,
   "id": "8a9dab2c",
   "metadata": {},
   "outputs": [
    {
     "name": "stdout",
     "output_type": "stream",
     "text": [
      "My name is Rohit\n",
      "My name is Sahil\n"
     ]
    }
   ],
   "source": [
    "# calling the function \n",
    "def stud(name):\n",
    "    print(\"My name is\",name)\n",
    "    \n",
    "stud(\"Rohit\")\n",
    "stud(\"Sahil\")"
   ]
  },
  {
   "cell_type": "code",
   "execution_count": 102,
   "id": "59121168",
   "metadata": {},
   "outputs": [
    {
     "name": "stdout",
     "output_type": "stream",
     "text": [
      "Multiplication of a & b:  275\n"
     ]
    }
   ],
   "source": [
    "# return\n",
    "\n",
    "def mul(a,b):\n",
    "    result = a * b\n",
    "    return result\n",
    "\n",
    "x = 5\n",
    "y = 55\n",
    "res = mul(x,y)\n",
    "print('Multiplication of a & b: ',res)"
   ]
  },
  {
   "cell_type": "code",
   "execution_count": 103,
   "id": "a6102949",
   "metadata": {},
   "outputs": [
    {
     "name": "stdout",
     "output_type": "stream",
     "text": [
      "('a', 'b', 'c', 'd', 'e', 'f')\n",
      "a\n",
      "b\n",
      "c\n",
      "d\n",
      "e\n",
      "f\n"
     ]
    }
   ],
   "source": [
    "# unknown parameters\n",
    "\n",
    "def display(*letter):\n",
    "    print(letter)\n",
    "    for i in letter:\n",
    "        print(i)\n",
    "    \n",
    "display('a','b','c','d','e','f')"
   ]
  },
  {
   "cell_type": "markdown",
   "id": "5c3dd1f8",
   "metadata": {},
   "source": [
    "## Lambda"
   ]
  },
  {
   "cell_type": "code",
   "execution_count": 104,
   "id": "0996659a",
   "metadata": {},
   "outputs": [
    {
     "name": "stdout",
     "output_type": "stream",
     "text": [
      "25\n"
     ]
    }
   ],
   "source": [
    "a = lambda num : num ** 2\n",
    "\n",
    "print(a(5))"
   ]
  },
  {
   "cell_type": "code",
   "execution_count": 105,
   "id": "c7742dc9",
   "metadata": {},
   "outputs": [
    {
     "name": "stdout",
     "output_type": "stream",
     "text": [
      "Value of n:  2\n",
      "361\n"
     ]
    }
   ],
   "source": [
    "def myfun(n):\n",
    "    print(\"Value of n: \",n)\n",
    "    return (lambda a : a ** n)\n",
    "\n",
    "otherfun = myfun(2)\n",
    "print(otherfun(19))"
   ]
  },
  {
   "cell_type": "markdown",
   "id": "0d127511",
   "metadata": {},
   "source": [
    "## Class"
   ]
  },
  {
   "cell_type": "code",
   "execution_count": 106,
   "id": "c1f4a92a",
   "metadata": {},
   "outputs": [
    {
     "name": "stdout",
     "output_type": "stream",
     "text": [
      "Name: Rohit Shede\n",
      "Roll no.: 52\n",
      "Age: 22\n",
      "Section: B\n"
     ]
    }
   ],
   "source": [
    "# simple class example\n",
    "class student():\n",
    "    #properties\n",
    "    name = \"Rohit Shede\"\n",
    "    roll_no = 52\n",
    "    age = 22\n",
    "    section = \"B\"\n",
    "# object    \n",
    "obj1 = student()\n",
    "print(\"Name:\",obj1.name)\n",
    "print(\"Roll no.:\",obj1.roll_no)\n",
    "print(\"Age:\",obj1.age)\n",
    "print(\"Section:\",obj1.section)"
   ]
  },
  {
   "cell_type": "code",
   "execution_count": 107,
   "id": "07c2b794",
   "metadata": {},
   "outputs": [
    {
     "name": "stdout",
     "output_type": "stream",
     "text": [
      "Student Name: Rohit Shede\n",
      "Roll No.: 52\n",
      "Mobile No.: 7767827724\n",
      "Age: 22 \n",
      "\n",
      "Student Name: Sahil Raskar\n",
      "Roll No.: 23\n",
      "Mobile No.: 9887675643\n",
      "Age: 20 \n",
      "\n",
      "Student Name: Ronit Pawar\n",
      "Roll No.: 45\n",
      "Mobile No.: 9797578965\n",
      "Age: 20\n"
     ]
    }
   ],
   "source": [
    "# real class function\n",
    "\n",
    "class student():\n",
    "    def __init__(self, name, roll_no, mobile_no, age):\n",
    "        self.name = name\n",
    "        self.roll_no = roll_no\n",
    "        self.mobile_no = mobile_no\n",
    "        self.age = age\n",
    "            \n",
    "obj_1 = student(\"Rohit Shede\", 52, 7767827724, 22)\n",
    "obj_2 = student(\"Sahil Raskar\", 23, 9887675643, 20)\n",
    "obj_3 = student(\"Ronit Pawar\", 45, 9797578965, 20)\n",
    "\n",
    "print(\"Student Name:\",obj_1.name)\n",
    "print('Roll No.:',obj_1.roll_no)\n",
    "print('Mobile No.:',obj_1.mobile_no)\n",
    "print('Age:',obj_1.age,'\\n')\n",
    "\n",
    "print(\"Student Name:\",obj_2.name)\n",
    "print('Roll No.:',obj_2.roll_no)\n",
    "print('Mobile No.:',obj_2.mobile_no)\n",
    "print('Age:',obj_2.age,'\\n')\n",
    "\n",
    "print(\"Student Name:\",obj_3.name)\n",
    "print('Roll No.:',obj_3.roll_no)\n",
    "print('Mobile No.:',obj_3.mobile_no)\n",
    "print('Age:',obj_3.age)"
   ]
  },
  {
   "cell_type": "code",
   "execution_count": 108,
   "id": "7eaa29bb",
   "metadata": {},
   "outputs": [
    {
     "name": "stdout",
     "output_type": "stream",
     "text": [
      "Name of student:  Rohit Shede\n",
      "Roll no. of student:  52\n",
      "Age of student:  22\n",
      "Year of student:  T.Y Bcom\n",
      "\n",
      "\n",
      "Name of student:  Sahil Raskar\n",
      "Roll no. of student:  45\n",
      "Age of student:  20\n",
      "Year of student:  F.Y Bcom\n",
      "\n",
      "\n",
      "Name of student:  Tejas Sonawane\n",
      "Roll no. of student:  67\n",
      "Age of student:  22\n",
      "Year of student:  T.Y Bcom\n",
      "\n",
      "\n",
      "Hii my name is Rohit Shede My age is 22 \n",
      " I am studying T.Y Bcom And my roll no.is 52\n",
      "\n",
      "\n",
      "Hii my name is Sahil Raskar My age is 20 \n",
      " I am studying F.Y Bcom And my roll no.is 45\n",
      "\n",
      "\n",
      "Hii my name is Tejas Sonawane My age is 22 \n",
      " I am studying T.Y Bcom And my roll no.is 67\n",
      "\n",
      "\n"
     ]
    }
   ],
   "source": [
    "class student():\n",
    "    def __init__(self, name, roll_no, age, year):\n",
    "        self.name = name\n",
    "        self.roll_no = roll_no\n",
    "        self.age = age\n",
    "        self.year = year\n",
    "        \n",
    "    def display(self):\n",
    "        print('Name of student: ',self.name)\n",
    "        print('Roll no. of student: ',self.roll_no)\n",
    "        print('Age of student: ',self.age)\n",
    "        print('Year of student: ',self.year)\n",
    "        \n",
    "    def intro(self):\n",
    "        print('Hii my name is',self.name,'My age is',self.age,'\\n','I am studying',self.year,'And my roll no.is',self.roll_no)\n",
    "    \n",
    "r = student('Rohit Shede', 52, 22, 'T.Y Bcom')\n",
    "s = student('Sahil Raskar', 45, 20, 'F.Y Bcom')\n",
    "t = student('Tejas Sonawane', 67, 22, 'T.Y Bcom')\n",
    "\n",
    "r.display()\n",
    "print('\\n')\n",
    "\n",
    "s.display()\n",
    "print('\\n')\n",
    "\n",
    "t.display()\n",
    "print('\\n')\n",
    "\n",
    "r.intro()\n",
    "print('\\n')\n",
    "\n",
    "s.intro()\n",
    "print('\\n')\n",
    "\n",
    "t.intro()\n",
    "print('\\n')"
   ]
  },
  {
   "cell_type": "markdown",
   "id": "339b144e",
   "metadata": {},
   "source": [
    "## Inheritance"
   ]
  },
  {
   "cell_type": "code",
   "execution_count": 109,
   "id": "b5e83b09",
   "metadata": {},
   "outputs": [
    {
     "name": "stdout",
     "output_type": "stream",
     "text": [
      "First name: Rohit\n",
      "Last name: Shede\n",
      "First name: Sahil\n",
      "Last name: Raskar\n"
     ]
    }
   ],
   "source": [
    "class person: # parent class \\ base class\n",
    "    def __init__(self, fname, lname):\n",
    "        self.fname = fname\n",
    "        self.lname = lname\n",
    "        \n",
    "    def display(self):\n",
    "        print('First name:',self.fname)\n",
    "        print('Last name:',self.lname)\n",
    "\n",
    "class student(person):# child class \\ derived class\n",
    "    pass\n",
    "\n",
    "a = student('Rohit','Shede')\n",
    "b = student('Sahil','Raskar')\n",
    "\n",
    "a.display()\n",
    "b.display()"
   ]
  },
  {
   "cell_type": "code",
   "execution_count": 110,
   "id": "c6b7f913",
   "metadata": {},
   "outputs": [
    {
     "name": "stdout",
     "output_type": "stream",
     "text": [
      "My name is Sahil Raskar and my age is 19.\n",
      "My name is Rohit Shede and my age is 21. I am studying in T.Y Bcom and my roll no is 52\n"
     ]
    }
   ],
   "source": [
    "class person:\n",
    "    def __init__(self, fname, lname, age):\n",
    "        self.fname = fname\n",
    "        self.lname = lname\n",
    "        self.age = age\n",
    "    \n",
    "    def details(self):\n",
    "        print(f'My name is {self.fname} {self.lname} and my age is {self.age}.')\n",
    "        \n",
    "        \n",
    "class student(person):\n",
    "    def __init__(self, fname, lname, age, _class, _rollno):\n",
    "        person.__init__(self, fname, lname, age)\n",
    "        self._class = _class\n",
    "        self._rollno = _rollno\n",
    "        \n",
    "    def studdetails(self):\n",
    "        print(f'My name is {self.fname} {self.lname} and my age is {self.age}. I am studying in {self._class} and my roll no is {self._rollno}')\n",
    "    \n",
    "a = student('Rohit', 'Shede', 21, 'T.Y Bcom', 52)\n",
    "b = student('Sahil', 'Raskar', 19, 'S.Y Bcom', 34)\n",
    "\n",
    "b.details()\n",
    "a.studdetails()"
   ]
  },
  {
   "cell_type": "markdown",
   "id": "b9f19688",
   "metadata": {},
   "source": [
    "## Iterator"
   ]
  },
  {
   "cell_type": "code",
   "execution_count": 111,
   "id": "b36bcd90",
   "metadata": {},
   "outputs": [
    {
     "name": "stdout",
     "output_type": "stream",
     "text": [
      "<class 'list_iterator'>\n",
      "1\n",
      "2\n",
      "3\n",
      "4\n",
      "5\n",
      "6\n"
     ]
    }
   ],
   "source": [
    "a = [1,2,3,4,5,6]\n",
    "\n",
    "x = iter(a) # typecasting into iterator\n",
    "\n",
    "print(type(x))\n",
    "\n",
    "print(next(x))\n",
    "print(next(x))\n",
    "print(next(x))\n",
    "print(next(x))\n",
    "print(next(x))\n",
    "print(next(x))"
   ]
  },
  {
   "cell_type": "code",
   "execution_count": 112,
   "id": "0f3a2f5e",
   "metadata": {},
   "outputs": [
    {
     "name": "stdout",
     "output_type": "stream",
     "text": [
      "1\n",
      "2\n",
      "3\n",
      "4\n",
      "5\n",
      "6\n",
      "7\n",
      "8\n",
      "9\n",
      "10\n",
      "11\n",
      "12\n",
      "13\n",
      "14\n",
      "15\n",
      "16\n",
      "17\n",
      "18\n",
      "19\n",
      "20\n"
     ]
    }
   ],
   "source": [
    "class iterator:\n",
    "    def __iter__(self):\n",
    "        self.val = 1\n",
    "        return self\n",
    "    \n",
    "    def __next__(self):\n",
    "        x = self.val\n",
    "        self.val += 1\n",
    "        \n",
    "        if x == 21:\n",
    "            raise StopIteration\n",
    "            \n",
    "        return x\n",
    "    \n",
    "a = iterator()\n",
    "\n",
    "itr = iter(a)\n",
    "\n",
    "for x in itr:\n",
    "    print(x)\n"
   ]
  },
  {
   "cell_type": "markdown",
   "id": "fac0bbd3",
   "metadata": {},
   "source": [
    "## Scope of variable\n",
    "There are two types of scopes\n",
    "1. Local scope\n",
    "2. Global scope"
   ]
  },
  {
   "cell_type": "code",
   "execution_count": 113,
   "id": "4086e9ae",
   "metadata": {},
   "outputs": [
    {
     "name": "stdout",
     "output_type": "stream",
     "text": [
      "100\n"
     ]
    }
   ],
   "source": [
    "# Global scope\n",
    "# the values that are outside the function are called global values\n",
    "x = 100\n",
    "\n",
    "def myfun():\n",
    "    print(x)\n",
    "    \n",
    "myfun()"
   ]
  },
  {
   "cell_type": "code",
   "execution_count": 114,
   "id": "f3bb21b6",
   "metadata": {},
   "outputs": [
    {
     "name": "stdout",
     "output_type": "stream",
     "text": [
      "200\n"
     ]
    }
   ],
   "source": [
    "# Local scope\n",
    "# the values that are inside the function are called local values\n",
    "\n",
    "def myfun():\n",
    "    x = 200\n",
    "    print(x)\n",
    "    \n",
    "myfun()"
   ]
  },
  {
   "cell_type": "code",
   "execution_count": 115,
   "id": "7c68a84d",
   "metadata": {},
   "outputs": [
    {
     "name": "stdout",
     "output_type": "stream",
     "text": [
      "200\n",
      "300\n"
     ]
    }
   ],
   "source": [
    "# Global and local scope in one function\n",
    "\n",
    "x = 300 # Global scope\n",
    "\n",
    "def myfun():\n",
    "    x = 200 # Local scope\n",
    "    print(x)\n",
    "\n",
    "myfun()\n",
    "print(x)"
   ]
  },
  {
   "cell_type": "code",
   "execution_count": 116,
   "id": "bb3efcd5",
   "metadata": {},
   "outputs": [
    {
     "name": "stdout",
     "output_type": "stream",
     "text": [
      "230\n"
     ]
    }
   ],
   "source": [
    "# Global keyword\n",
    "\n",
    "def my_fun():\n",
    "    \n",
    "    global x\n",
    "    x = 230\n",
    "    print(x)\n",
    "    \n",
    "my_fun()"
   ]
  },
  {
   "cell_type": "code",
   "execution_count": 117,
   "id": "e40ef4cb",
   "metadata": {},
   "outputs": [
    {
     "name": "stdout",
     "output_type": "stream",
     "text": [
      "500\n",
      "500\n"
     ]
    }
   ],
   "source": [
    "# You can also use global keyword if you want to make a change to a global variable inside a function\n",
    "\n",
    "x = 450\n",
    "\n",
    "def myfunc():\n",
    "    \n",
    "    global x\n",
    "    x = 500\n",
    "    print(x)\n",
    "\n",
    "myfunc()  \n",
    "print(x)# original value of x was 450 but after using global keyword it changes to 500"
   ]
  },
  {
   "cell_type": "markdown",
   "id": "59b1ccef",
   "metadata": {},
   "source": [
    "## Module"
   ]
  },
  {
   "cell_type": "code",
   "execution_count": 118,
   "id": "072f8002",
   "metadata": {},
   "outputs": [
    {
     "name": "stdout",
     "output_type": "stream",
     "text": [
      "Windows\n"
     ]
    }
   ],
   "source": [
    "import platform\n",
    "\n",
    "x = platform.system()\n",
    "print(x)"
   ]
  },
  {
   "cell_type": "markdown",
   "id": "2c7d1bff",
   "metadata": {},
   "source": [
    "## Datetime module"
   ]
  },
  {
   "cell_type": "code",
   "execution_count": 119,
   "id": "1d1a1e38",
   "metadata": {},
   "outputs": [
    {
     "name": "stdout",
     "output_type": "stream",
     "text": [
      "2023-11-21 12:56:44.409772\n"
     ]
    }
   ],
   "source": [
    "import datetime as dt\n",
    "\n",
    "x = dt.datetime.now()\n",
    "print(x)"
   ]
  },
  {
   "cell_type": "code",
   "execution_count": 120,
   "id": "7b9ea2d2",
   "metadata": {},
   "outputs": [
    {
     "name": "stdout",
     "output_type": "stream",
     "text": [
      "9999 \n",
      "\n",
      "1\n"
     ]
    }
   ],
   "source": [
    "import datetime\n",
    "\n",
    "print(datetime.MAXYEAR,'\\n')\n",
    "\n",
    "print(datetime.MINYEAR)"
   ]
  },
  {
   "cell_type": "code",
   "execution_count": 121,
   "id": "84d22221",
   "metadata": {},
   "outputs": [
    {
     "name": "stdout",
     "output_type": "stream",
     "text": [
      "21\n",
      "2023\n",
      "11\n",
      "Tuesday\n",
      "12\n",
      "12\n",
      "PM\n"
     ]
    }
   ],
   "source": [
    "x = dt.datetime.now()\n",
    "\n",
    "print(x.day)\n",
    "print(x.year)\n",
    "print(x.month)\n",
    "print(x.strftime('%A')) #Day\n",
    "print(x.strftime('%H')) #0-23\n",
    "print(x.strftime('%I')) #0-12\n",
    "print(x.strftime('%p')) #AM-PM"
   ]
  },
  {
   "cell_type": "code",
   "execution_count": 122,
   "id": "18b935c5",
   "metadata": {},
   "outputs": [
    {
     "name": "stdout",
     "output_type": "stream",
     "text": [
      "2024-02-29 00:00:00\n"
     ]
    }
   ],
   "source": [
    "z = dt.datetime(2024, 2, 29)\n",
    "\n",
    "print(z)"
   ]
  },
  {
   "cell_type": "markdown",
   "id": "ac18de32",
   "metadata": {},
   "source": [
    "## Python math functions"
   ]
  },
  {
   "cell_type": "code",
   "execution_count": 123,
   "id": "61e82954",
   "metadata": {},
   "outputs": [
    {
     "name": "stdout",
     "output_type": "stream",
     "text": [
      "67\n"
     ]
    }
   ],
   "source": [
    "# Returns minimum value\n",
    "x = min(100,67,890,456,544,234,5322)\n",
    "\n",
    "print(x)"
   ]
  },
  {
   "cell_type": "code",
   "execution_count": 124,
   "id": "00ae8ee8",
   "metadata": {},
   "outputs": [
    {
     "name": "stdout",
     "output_type": "stream",
     "text": [
      "5322\n"
     ]
    }
   ],
   "source": [
    "# Returns maximum value\n",
    "x = max(100,67,890,456,544,234,5322)\n",
    "\n",
    "print(x)"
   ]
  },
  {
   "cell_type": "code",
   "execution_count": 125,
   "id": "d685e94d",
   "metadata": {},
   "outputs": [
    {
     "name": "stdout",
     "output_type": "stream",
     "text": [
      "679\n"
     ]
    }
   ],
   "source": [
    "# Returns absolute positive value\n",
    "x = abs(-679)\n",
    "\n",
    "print(x)"
   ]
  },
  {
   "cell_type": "code",
   "execution_count": 126,
   "id": "13a2162a",
   "metadata": {},
   "outputs": [
    {
     "name": "stdout",
     "output_type": "stream",
     "text": [
      "531441\n"
     ]
    }
   ],
   "source": [
    "# Power function\n",
    "x = pow(9,6)\n",
    "\n",
    "print(x)"
   ]
  },
  {
   "cell_type": "markdown",
   "id": "76dd4481",
   "metadata": {},
   "source": [
    "## Math module"
   ]
  },
  {
   "cell_type": "code",
   "execution_count": 127,
   "id": "2ae771fa",
   "metadata": {},
   "outputs": [
    {
     "name": "stdout",
     "output_type": "stream",
     "text": [
      "3.0\n",
      "24\n",
      "5\n",
      "3.141592653589793\n",
      "148.4131591025766\n"
     ]
    }
   ],
   "source": [
    "import math \n",
    "\n",
    "a = math.sqrt(9)\n",
    "print(a)\n",
    "\n",
    "b = math.factorial(4)\n",
    "print(b)\n",
    "\n",
    "c = math.ceil(4.1)\n",
    "print(c)\n",
    "\n",
    "d = math.pi\n",
    "print(d)\n",
    "\n",
    "e = math.exp(5)\n",
    "print(e)"
   ]
  },
  {
   "cell_type": "markdown",
   "id": "c3d0d9b2",
   "metadata": {},
   "source": [
    "## JSON module\n",
    "\n",
    "JavaScript Object Notation "
   ]
  },
  {
   "cell_type": "code",
   "execution_count": 128,
   "id": "fccdfaad",
   "metadata": {},
   "outputs": [
    {
     "name": "stdout",
     "output_type": "stream",
     "text": [
      "{\"name\": \"Rohit\", \"age\": 22, \"class\": \"T.Y Bcom\", \"roll no\": 52, \"owns laptop\": true, \"owns gaming pc\": false, \"favourite movie\": null, \"favourite anime\": [{\"1st anime\": \"Naruto\", \"character\": \"Naruto\"}, {\"2nd anime\": \"One Piece\", \"character\": \"Luffy\"}]}\n",
      "<class 'str'> \n",
      "\n",
      "{'name': 'Rohit', 'age': 22, 'class': 'T.Y Bcom', 'roll no': 52, 'owns laptop': True, 'owns gaming pc': False, 'favourite movie': None, 'favourite anime': [{'1st anime': 'Naruto', 'character': 'Naruto'}, {'2nd anime': 'One Piece', 'character': 'Luffy'}]}\n",
      "<class 'dict'>\n"
     ]
    }
   ],
   "source": [
    "# JSON to object\n",
    "import json\n",
    "#JSON\n",
    "a = '{\"name\": \"Rohit\", \"age\": 22, \"class\": \"T.Y Bcom\", \"roll no\": 52, \"owns laptop\": true, \"owns gaming pc\": false, \"favourite movie\": null, \"favourite anime\": [{\"1st anime\": \"Naruto\", \"character\": \"Naruto\"}, {\"2nd anime\": \"One Piece\", \"character\": \"Luffy\"}]}'\n",
    "\n",
    "print(a)\n",
    "print(type(a),'\\n')\n",
    "\n",
    "b = json.loads(a)\n",
    "print(b)\n",
    "print(type(b))"
   ]
  },
  {
   "cell_type": "code",
   "execution_count": 129,
   "id": "3254b278",
   "metadata": {},
   "outputs": [
    {
     "name": "stdout",
     "output_type": "stream",
     "text": [
      "{'name': 'Rohit', 'age': 22, 'class': 'T.Y Bcom', 'roll no': 52, 'owns laptop': True, 'owns gaming pc': False, 'favourite movie': None, 'favourite anime': [{'1st anime': 'Naruto', 'character': 'Naruto'}, {'2nd anime': 'One Piece', 'character': 'Luffy'}]}\n",
      "<class 'dict'> \n",
      "\n",
      "{\n",
      " \"name\": \"Rohit\",\n",
      " \"age\": 22,\n",
      " \"class\": \"T.Y Bcom\",\n",
      " \"roll no\": 52,\n",
      " \"owns laptop\": true,\n",
      " \"owns gaming pc\": false,\n",
      " \"favourite movie\": null,\n",
      " \"favourite anime\": [\n",
      "  {\n",
      "   \"1st anime\": \"Naruto\",\n",
      "   \"character\": \"Naruto\"\n",
      "  },\n",
      "  {\n",
      "   \"2nd anime\": \"One Piece\",\n",
      "   \"character\": \"Luffy\"\n",
      "  }\n",
      " ]\n",
      "}\n",
      "<class 'str'>\n"
     ]
    }
   ],
   "source": [
    "# object(dict) to JSON\n",
    "import json\n",
    "# Object\n",
    "x = {\n",
    "    'name' : 'Rohit',\n",
    "    'age' : 22,\n",
    "    'class' : 'T.Y Bcom',\n",
    "    'roll no' : 52,\n",
    "    'owns laptop' : True,\n",
    "    'owns gaming pc' : False,\n",
    "    'favourite movie' : None,\n",
    "    'favourite anime' : [\n",
    "        {'1st anime' : 'Naruto', 'character' : 'Naruto'},\n",
    "        {'2nd anime' : 'One Piece', 'character' : 'Luffy'}\n",
    "    ]\n",
    "}\n",
    "\n",
    "print(x)\n",
    "print(type(x),'\\n')\n",
    "\n",
    "y = json.dumps(x,indent = 1)\n",
    "print(y)\n",
    "print(type(y))"
   ]
  },
  {
   "cell_type": "code",
   "execution_count": 130,
   "id": "544b51ee",
   "metadata": {},
   "outputs": [
    {
     "name": "stdout",
     "output_type": "stream",
     "text": [
      "[1, 2, 3, 4, 5, 6, \"hii\", \"hello\", 2.3, 33.4]\n",
      "<class 'str'>\n"
     ]
    }
   ],
   "source": [
    "import json\n",
    "\n",
    "a = (1,2,3,4,5,6,'hii','hello',2.3,33.4)\n",
    "\n",
    "b = json.dumps(a)\n",
    "print(b)\n",
    "print(type(b))"
   ]
  },
  {
   "cell_type": "code",
   "execution_count": 131,
   "id": "0b3cdbfe",
   "metadata": {},
   "outputs": [
    {
     "name": "stdout",
     "output_type": "stream",
     "text": [
      "[1, 2, 3, 'hii']\n",
      "<class 'list'>\n"
     ]
    }
   ],
   "source": [
    "import json\n",
    "\n",
    "x = '[1,2,3,\"hii\"]'\n",
    "\n",
    "y = json.loads(x)\n",
    "print(y)\n",
    "print(type(y))"
   ]
  },
  {
   "cell_type": "markdown",
   "id": "adab1e5e",
   "metadata": {},
   "source": [
    "## Regular Expression or RegEx\n",
    "\n",
    "A RegEx, or Regular Expression, is a sequence of characters that forms a search pattern.\n",
    "RegEx can be used to check if a string contains the specified search pattern."
   ]
  },
  {
   "cell_type": "code",
   "execution_count": 132,
   "id": "cf5cd950",
   "metadata": {},
   "outputs": [
    {
     "name": "stdout",
     "output_type": "stream",
     "text": [
      "True\n",
      "(0, 33)\n",
      "0\n",
      "33\n",
      "Hi my name is Rohit, How are you?\n",
      "Hi my name is Rohit, How are you?\n"
     ]
    }
   ],
   "source": [
    "import re\n",
    "\n",
    "x = 'Hi my name is Rohit, How are you?'\n",
    "\n",
    "y = re.search('^H.*?$',x)\n",
    "\n",
    "if x:\n",
    "    print(True)\n",
    "else:\n",
    "    print(False)\n",
    "\n",
    "print(y.span())\n",
    "print(y.start())\n",
    "print(y.end())\n",
    "print(y.string)\n",
    "print(y.group())"
   ]
  },
  {
   "cell_type": "code",
   "execution_count": 133,
   "id": "7263405d",
   "metadata": {},
   "outputs": [
    {
     "name": "stdout",
     "output_type": "stream",
     "text": [
      "{'name': 'Rohit', 'age': 22, 'class': 'T.Y Bcom', 'roll no': 52}\n",
      "<class 'dict'> \n",
      "\n",
      "{\n",
      "  \"name\"-\"Rohit\"+\n",
      "  \"age\"-22+\n",
      "  \"class\"-\"T.Y Bcom\"+\n",
      "  \"roll no\"-52\n",
      "}\n",
      "<class 'str'>\n"
     ]
    }
   ],
   "source": [
    "# object(dict) to JSON\n",
    "# use of separtors\n",
    "import json\n",
    "# Object\n",
    "x = {\n",
    "    'name' : 'Rohit',\n",
    "    'age' : 22,\n",
    "    'class' : 'T.Y Bcom',\n",
    "    'roll no' : 52,\n",
    "}\n",
    "\n",
    "print(x)\n",
    "print(type(x),'\\n')\n",
    "\n",
    "y = json.dumps(x,indent=2,separators=('+','-'))\n",
    "print(y)\n",
    "print(type(y))"
   ]
  },
  {
   "cell_type": "code",
   "execution_count": 134,
   "id": "3339d7cc",
   "metadata": {},
   "outputs": [
    {
     "name": "stdout",
     "output_type": "stream",
     "text": [
      "['l', 'l']\n"
     ]
    }
   ],
   "source": [
    "import re\n",
    "\n",
    "a = \"python is easy programming language to learn\"\n",
    "\n",
    "x = re.findall('l',a)\n",
    "print(x)"
   ]
  },
  {
   "cell_type": "code",
   "execution_count": 135,
   "id": "fbb7b2f0",
   "metadata": {},
   "outputs": [
    {
     "name": "stdout",
     "output_type": "stream",
     "text": [
      "4\n"
     ]
    }
   ],
   "source": [
    "txt = \"The python programming\"\n",
    "\n",
    "x = re.search(\"py\",txt)\n",
    "\n",
    "print(x.start())"
   ]
  },
  {
   "cell_type": "code",
   "execution_count": 136,
   "id": "378cd6ed",
   "metadata": {},
   "outputs": [
    {
     "name": "stdout",
     "output_type": "stream",
     "text": [
      "The first white-space character is located at position: 6\n"
     ]
    }
   ],
   "source": [
    "import re\n",
    "\n",
    "z = \"python is easy programming language to learn\"\n",
    "x = re.search(\"\\s\", z)\n",
    "\n",
    "print(\"The first white-space character is located at position:\", x.start()) \n"
   ]
  },
  {
   "cell_type": "code",
   "execution_count": 137,
   "id": "24608923",
   "metadata": {},
   "outputs": [
    {
     "name": "stdout",
     "output_type": "stream",
     "text": [
      "['python', 'is', 'easy', 'programming', 'language', 'to', 'learn']\n"
     ]
    }
   ],
   "source": [
    "z = \"python is easy programming language to learn\"\n",
    "\n",
    "x = re.split('\\s',z)\n",
    "print(x)"
   ]
  },
  {
   "cell_type": "code",
   "execution_count": 138,
   "id": "793ad43c",
   "metadata": {},
   "outputs": [
    {
     "name": "stdout",
     "output_type": "stream",
     "text": [
      "python!!is!!easy!!programming!!language!!to!!learn\n"
     ]
    }
   ],
   "source": [
    "z = \"python is easy programming language to learn\"\n",
    "\n",
    "x = re.sub('\\s','!!',z)\n",
    "print(x)"
   ]
  },
  {
   "cell_type": "markdown",
   "id": "cfa9da5c",
   "metadata": {},
   "source": [
    "## Exception Handling"
   ]
  },
  {
   "cell_type": "code",
   "execution_count": 139,
   "id": "cc014f81",
   "metadata": {},
   "outputs": [],
   "source": [
    "# while True:\n",
    "#     print(\"hello world\")"
   ]
  },
  {
   "cell_type": "code",
   "execution_count": 140,
   "id": "5295b261",
   "metadata": {},
   "outputs": [
    {
     "name": "stdout",
     "output_type": "stream",
     "text": [
      "Enter a number: 12\n",
      "Hello world..!\n"
     ]
    }
   ],
   "source": [
    "while True:\n",
    "    try:\n",
    "        x = int(input('Enter a number: '))\n",
    "        break\n",
    "    except ValueError:\n",
    "        print('Wrong input')\n",
    "        \n",
    "print(\"Hello world..!\")"
   ]
  },
  {
   "cell_type": "code",
   "execution_count": 141,
   "id": "fab2cb8c",
   "metadata": {},
   "outputs": [
    {
     "name": "stdout",
     "output_type": "stream",
     "text": [
      "Enter a number: 121\n"
     ]
    }
   ],
   "source": [
    "x = int(input('Enter a number: '))\n",
    "\n",
    "if x < 100:\n",
    "    raise Exception(\"No value below 100\")"
   ]
  },
  {
   "cell_type": "code",
   "execution_count": 142,
   "id": "06d6fbdb",
   "metadata": {},
   "outputs": [],
   "source": [
    "x = 1\n",
    "\n",
    "if type(x) is not int:\n",
    "    raise Exception(\"Only int values are allowed\")"
   ]
  },
  {
   "cell_type": "code",
   "execution_count": 143,
   "id": "8180a8b9",
   "metadata": {},
   "outputs": [],
   "source": [
    "x = 2\n",
    "\n",
    "if not type(x) is int:\n",
    "    raise TypeError(\"No strings allowed\")"
   ]
  },
  {
   "cell_type": "markdown",
   "id": "ae3dd9e2",
   "metadata": {},
   "source": [
    "## Formatting"
   ]
  },
  {
   "cell_type": "code",
   "execution_count": 144,
   "id": "9e11676e",
   "metadata": {},
   "outputs": [
    {
     "name": "stdout",
     "output_type": "stream",
     "text": [
      "The value of that bottle is 100.00\n"
     ]
    }
   ],
   "source": [
    "price = 100\n",
    "\n",
    "x = 'The value of that bottle is {:.2f}'\n",
    "\n",
    "print(x.format(price))"
   ]
  },
  {
   "cell_type": "code",
   "execution_count": 145,
   "id": "248175fc",
   "metadata": {},
   "outputs": [
    {
     "name": "stdout",
     "output_type": "stream",
     "text": [
      "His name is Rohit. Rohit's age is 22\n"
     ]
    }
   ],
   "source": [
    "a = 22\n",
    "b = 'Rohit'\n",
    "\n",
    "print(\"His name is {1}. {1}'s age is {0}\".format(a,b))"
   ]
  },
  {
   "cell_type": "code",
   "execution_count": 146,
   "id": "5f15c1ed",
   "metadata": {},
   "outputs": [
    {
     "name": "stdout",
     "output_type": "stream",
     "text": [
      "I love One Piece, my fvourite character from One Piece is \"Roronoa Zoro\" \n"
     ]
    }
   ],
   "source": [
    "a = \"I love {anime}, my fvourite character from {anime} is {character} \"\n",
    "print(a.format(anime = 'One Piece', character = '\"Roronoa Zoro\"'))"
   ]
  },
  {
   "cell_type": "markdown",
   "id": "11ef6347",
   "metadata": {},
   "source": [
    "## File handeling"
   ]
  },
  {
   "cell_type": "code",
   "execution_count": 147,
   "id": "ef27a746",
   "metadata": {},
   "outputs": [
    {
     "name": "stdout",
     "output_type": "stream",
     "text": [
      "this is an added string to existing filethis is an added string to existing filethis is an added string to existing file\n"
     ]
    }
   ],
   "source": [
    "a = open(\"./rohit.txt\")\n",
    "\n",
    "print(a.read())"
   ]
  },
  {
   "cell_type": "code",
   "execution_count": 148,
   "id": "8ef2082d",
   "metadata": {},
   "outputs": [
    {
     "name": "stdout",
     "output_type": "stream",
     "text": [
      "this is an added string to existing filethis is an added string to existing filethis is an added string to existing filethis is an added string to existing file\n"
     ]
    }
   ],
   "source": [
    "a = open(\"./rohit.txt\",\"a\")\n",
    "\n",
    "b = \"this is an added string to existing file\"\n",
    "\n",
    "a.write(b)\n",
    "a.close()\n",
    "\n",
    "a = open(\"./rohit.txt\")\n",
    "print(a.read())"
   ]
  },
  {
   "cell_type": "code",
   "execution_count": null,
   "id": "36443bf8",
   "metadata": {},
   "outputs": [],
   "source": []
  }
 ],
 "metadata": {
  "kernelspec": {
   "display_name": "Python 3 (ipykernel)",
   "language": "python",
   "name": "python3"
  },
  "language_info": {
   "codemirror_mode": {
    "name": "ipython",
    "version": 3
   },
   "file_extension": ".py",
   "mimetype": "text/x-python",
   "name": "python",
   "nbconvert_exporter": "python",
   "pygments_lexer": "ipython3",
   "version": "3.11.0"
  }
 },
 "nbformat": 4,
 "nbformat_minor": 5
}
