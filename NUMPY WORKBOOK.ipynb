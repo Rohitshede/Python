{
 "cells": [
  {
   "cell_type": "markdown",
   "id": "fdd11c1b",
   "metadata": {},
   "source": [
    "# Numerical Python End to End in Detail\n",
    "Numpy:\n",
    "Numpy- is a Numerical Python\n",
    "\n",
    "It is developed by Travis Oliphant in 2005\n",
    "\n",
    "Numpy has functions to work on linear algebra, fourier transform, and matrices\n",
    "\n",
    "Its basically used to work with array, It can work with multidimentional Arrays\n",
    "\n",
    "* NumPy (short for Numerical Python) is a Python library that provides support for large, multi-dimensional arrays and matrices, as well as a large collection of mathematical functions to operate on these arrays. NumPy is a fundamental package for scientific computing with Python, as it forms the basis for many other data science and machine learning libraries."
   ]
  },
  {
   "cell_type": "code",
   "execution_count": 1,
   "id": "f0a9efb6",
   "metadata": {},
   "outputs": [
    {
     "name": "stdout",
     "output_type": "stream",
     "text": [
      "Current numpy version is:- 1.24.2\n"
     ]
    }
   ],
   "source": [
    "import numpy as np\n",
    "print(\"Current numpy version is:-\",np.__version__)"
   ]
  },
  {
   "cell_type": "code",
   "execution_count": 2,
   "id": "61b9577c",
   "metadata": {},
   "outputs": [
    {
     "name": "stdout",
     "output_type": "stream",
     "text": [
      "[1 2 3 4 5 6]\n",
      "<class 'numpy.ndarray'> \n",
      "\n",
      "[1 2 3 4 5 6]\n",
      "<class 'numpy.ndarray'>\n"
     ]
    }
   ],
   "source": [
    "x = np.array([1,2,3,4,5,6])\n",
    "\n",
    "print(x)\n",
    "print(type(x),'\\n')\n",
    "\n",
    "a = [1,2,3,4,5,6]\n",
    "\n",
    "x = np.array(a)\n",
    "print(x)\n",
    "print(type(x))"
   ]
  },
  {
   "cell_type": "code",
   "execution_count": 3,
   "id": "fa5ddd4e",
   "metadata": {},
   "outputs": [
    {
     "name": "stdout",
     "output_type": "stream",
     "text": [
      "[1 2 3]\n",
      "No. of dimensions: 1\n"
     ]
    }
   ],
   "source": [
    "x = np.array([1,2,3])\n",
    "\n",
    "print(x)\n",
    "print(\"No. of dimensions:\",x.ndim)"
   ]
  },
  {
   "cell_type": "code",
   "execution_count": 4,
   "id": "014502d4",
   "metadata": {},
   "outputs": [
    {
     "name": "stdout",
     "output_type": "stream",
     "text": [
      "1\n",
      "No. of dimensions: 0\n"
     ]
    }
   ],
   "source": [
    "x = np.array(1)\n",
    "\n",
    "print(x)\n",
    "print(\"No. of dimensions:\",x.ndim)"
   ]
  },
  {
   "cell_type": "code",
   "execution_count": 5,
   "id": "0813ef08",
   "metadata": {},
   "outputs": [
    {
     "name": "stdout",
     "output_type": "stream",
     "text": [
      "[[1]\n",
      " [2]]\n",
      "Dimensions: 2\n"
     ]
    }
   ],
   "source": [
    "a = [[1],[2]]\n",
    "\n",
    "b = np.array(a)\n",
    "print(b)\n",
    "print(\"Dimensions:\",b.ndim)"
   ]
  },
  {
   "cell_type": "code",
   "execution_count": 76,
   "id": "5fc0517c",
   "metadata": {},
   "outputs": [
    {
     "name": "stdout",
     "output_type": "stream",
     "text": [
      "[[[1 2]\n",
      "  [3 4]]\n",
      "\n",
      " [[5 6]\n",
      "  [7 8]]]\n",
      "Dimensions: 3\n"
     ]
    }
   ],
   "source": [
    "x = np.array([[[1,2],[3,4]],[[5,6],[7,8]]])\n",
    "\n",
    "print(x)\n",
    "print(\"Dimensions:\",x.ndim)"
   ]
  },
  {
   "cell_type": "code",
   "execution_count": 7,
   "id": "9347334b",
   "metadata": {},
   "outputs": [
    {
     "name": "stdout",
     "output_type": "stream",
     "text": [
      "[[1 2 3]\n",
      " [4 5 6]]\n",
      "2\n",
      "5\n",
      "Dimensions: 2\n"
     ]
    }
   ],
   "source": [
    "# accesing the elements\n",
    "import numpy as np\n",
    "x = np.array([[1,2,3],[4,5,6]])\n",
    "print(x)\n",
    "\n",
    "# 1st way\n",
    "print(x[0][1])\n",
    "\n",
    "#2nd way\n",
    "print(x[1,1])\n",
    "\n",
    "# dimensions \n",
    "print(\"Dimensions:\",x.ndim)"
   ]
  },
  {
   "cell_type": "code",
   "execution_count": 89,
   "id": "070f53e3",
   "metadata": {},
   "outputs": [
    {
     "name": "stdout",
     "output_type": "stream",
     "text": [
      "3\n",
      "50\n"
     ]
    }
   ],
   "source": [
    "x = [[[1,2,3],[4,5,6]],[[10,20,30],[40,50,60]]]\n",
    "\n",
    "arr = np.array(x)\n",
    "# print(arr,'\\n')\n",
    "\n",
    "print(arr[0][0][2])\n",
    "print(arr[1,1,1])"
   ]
  },
  {
   "cell_type": "code",
   "execution_count": 90,
   "id": "db9a5529",
   "metadata": {},
   "outputs": [
    {
     "name": "stdout",
     "output_type": "stream",
     "text": [
      "Dimensions: 3\n",
      "50\n"
     ]
    }
   ],
   "source": [
    "x = [[[1,2,3],[4,5,6]],[[10,20,30],[40,50,60]]]\n",
    "\n",
    "arr = np.array(x)\n",
    "# print(arr)\n",
    "\n",
    "print(\"Dimensions:\",arr.ndim)\n",
    "\n",
    "print(arr[1,1,1])"
   ]
  },
  {
   "cell_type": "code",
   "execution_count": 91,
   "id": "a144f37e",
   "metadata": {},
   "outputs": [
    {
     "name": "stdout",
     "output_type": "stream",
     "text": [
      "Dimensions: 3\n",
      "[[1 2 3]\n",
      " [4 5 6]] \n",
      "\n",
      "[[10 20 30]\n",
      " [40 50 60]] \n",
      "\n",
      "[[100 200 300]\n",
      " [400 500 600]] \n",
      "\n",
      "[[11 22 33]\n",
      " [44 55 66]]\n"
     ]
    }
   ],
   "source": [
    "a = [[[1,2,3],[4,5,6]],[[10,20,30],[40,50,60]],[[100,200,300],[400,500,600]],[[11,22,33],[44,55,66]]]\n",
    "arr = np.array(a)\n",
    "\n",
    "# print(arr)\n",
    "print(\"Dimensions:\",arr.ndim)\n",
    "\n",
    "print(arr[0],'\\n')\n",
    "print(arr[1],'\\n')\n",
    "print(arr[2],'\\n')\n",
    "print(arr[3])"
   ]
  },
  {
   "cell_type": "markdown",
   "id": "12356971",
   "metadata": {},
   "source": [
    "## Array Slicing"
   ]
  },
  {
   "cell_type": "markdown",
   "id": "7ca38ebc",
   "metadata": {},
   "source": [
    "Slicing in python means taking elements from one given index to another given index.\n",
    "\n",
    "We pass slice instead of index like this: [start:end].\n",
    "\n",
    "We can also define the step, like this: [start:end:step].\n",
    "\n",
    "If we don't pass start its considered 0\n",
    "\n",
    "If we don't pass end its considered length of array in that dimension\n",
    "\n",
    "If we don't pass step its considered 1"
   ]
  },
  {
   "cell_type": "code",
   "execution_count": 11,
   "id": "a4fc3345",
   "metadata": {},
   "outputs": [
    {
     "name": "stdout",
     "output_type": "stream",
     "text": [
      "10\n",
      "[ 1  2  3  4  5  6  7  8  9 10]\n",
      "[1 2 3 4 5]\n",
      "[ 6  7  8  9 10]\n"
     ]
    }
   ],
   "source": [
    "# indexing array\n",
    "import numpy as np\n",
    "\n",
    "x = np.array([1,2,3,4,5,6,7,8,9,10])\n",
    "\n",
    "print(len(x))\n",
    "print(x[0:])\n",
    "print(x[0:5])\n",
    "print(x[5:])"
   ]
  },
  {
   "cell_type": "code",
   "execution_count": 12,
   "id": "332a7fdf",
   "metadata": {},
   "outputs": [
    {
     "name": "stdout",
     "output_type": "stream",
     "text": [
      "[2 3 4 5 6 7]\n",
      "[10  9  8  7  6  5  4  3  2  1]\n",
      "[ 1  2  3  4  5  6  7  8  9 10]\n"
     ]
    }
   ],
   "source": [
    "# negative indexing\n",
    "x = np.array([1,2,3,4,5,6,7,8,9,10])\n",
    "\n",
    "z = x[::-1]\n",
    "print(x[-9:-3])\n",
    "\n",
    "print(z)\n",
    "a = np.sort(z)\n",
    "print(a)"
   ]
  },
  {
   "cell_type": "code",
   "execution_count": 13,
   "id": "a218b1e7",
   "metadata": {},
   "outputs": [
    {
     "name": "stdout",
     "output_type": "stream",
     "text": [
      "[1 3 5 7 9]\n",
      "[ 1  4  7 10]\n",
      "[1 5 9]\n",
      "[1 6]\n"
     ]
    }
   ],
   "source": [
    "# step\n",
    "x = np.array([1,2,3,4,5,6,7,8,9,10])\n",
    "\n",
    "print(x[0:10:2])\n",
    "print(x[0:10:3])\n",
    "print(x[0:10:4])\n",
    "print(x[0:10:5])"
   ]
  },
  {
   "cell_type": "markdown",
   "id": "8e00ffa3",
   "metadata": {},
   "source": [
    "## Slicing of 2D array"
   ]
  },
  {
   "cell_type": "code",
   "execution_count": 14,
   "id": "55b86e92",
   "metadata": {},
   "outputs": [
    {
     "name": "stdout",
     "output_type": "stream",
     "text": [
      "[1 2 3 4 5]\n",
      "[ 6  7  8  9 10]\n",
      "Dimensions: 2\n"
     ]
    }
   ],
   "source": [
    "import numpy as np\n",
    "\n",
    "arr = np.array([[1,2,3,4,5],[6,7,8,9,10]])\n",
    "\n",
    "print(arr[0])\n",
    "print(arr[1])\n",
    "print(\"Dimensions:\",arr.ndim)"
   ]
  },
  {
   "cell_type": "code",
   "execution_count": 15,
   "id": "05dd7a90",
   "metadata": {},
   "outputs": [
    {
     "name": "stdout",
     "output_type": "stream",
     "text": [
      "[1 2 3 4 5]\n",
      "[ 6  7  8  9 10] \n",
      "\n",
      "[[1 2 3 4]\n",
      " [6 7 8 9]]\n"
     ]
    }
   ],
   "source": [
    "import numpy as np\n",
    "\n",
    "ar = np.array([[1,2,3,4,5],[6,7,8,9,10]])\n",
    "\n",
    "print(ar[0])\n",
    "print(ar[1],'\\n')\n",
    "\n",
    "print(ar[0:2, 0:4])"
   ]
  },
  {
   "cell_type": "code",
   "execution_count": 16,
   "id": "fef1f0f3",
   "metadata": {},
   "outputs": [
    {
     "name": "stdout",
     "output_type": "stream",
     "text": [
      "12\n",
      "(3, 4)\n",
      "[[1 2 3]\n",
      " [4 5 6]\n",
      " [7 8 9]]\n"
     ]
    }
   ],
   "source": [
    "ar = np.array([[1,2,3,4],[4,5,6,7],[7,8,9,10]])\n",
    "\n",
    "print(ar.size)\n",
    "print(ar.shape)\n",
    "\n",
    "print(ar[0:3, 0:3])"
   ]
  },
  {
   "cell_type": "markdown",
   "id": "4b0b138a",
   "metadata": {},
   "source": [
    "## Data types"
   ]
  },
  {
   "cell_type": "markdown",
   "id": "d4ca45f2",
   "metadata": {},
   "source": [
    "NumPy has some extra data types, and refer to data types with one character, like i for integers, u for unsigned integers etc.\n",
    "\n",
    "Below is a list of all data types in NumPy and the characters used to represent them.\n",
    "\n",
    "1. i - integer\n",
    "2. b - boolean\n",
    "3. u - unsigned integer\n",
    "4. f - float\n",
    "5. c - complex float\n",
    "6. m - timedelta\n",
    "7. M - datetime\n",
    "8. O - object\n",
    "9. S - string\n",
    "10. U - unicode string\n",
    "11. V - fixed chunk of memory for other type ( void )"
   ]
  },
  {
   "cell_type": "code",
   "execution_count": 17,
   "id": "487dc99c",
   "metadata": {},
   "outputs": [
    {
     "name": "stdout",
     "output_type": "stream",
     "text": [
      "[1 2 3 4 5 6 7 8 9]\n"
     ]
    },
    {
     "data": {
      "text/plain": [
       "dtype('int32')"
      ]
     },
     "execution_count": 17,
     "metadata": {},
     "output_type": "execute_result"
    }
   ],
   "source": [
    "import numpy as np\n",
    "x = np.array([1,2,3,4,5,6,7,8,9], dtype = int)\n",
    "\n",
    "print(x)\n",
    "x.dtype"
   ]
  },
  {
   "cell_type": "markdown",
   "id": "7e7c32d1",
   "metadata": {},
   "source": [
    "## Data type conversion (typecasting)"
   ]
  },
  {
   "cell_type": "code",
   "execution_count": 18,
   "id": "bc4af07f",
   "metadata": {},
   "outputs": [
    {
     "name": "stdout",
     "output_type": "stream",
     "text": [
      "[1.2 2.3 3.4 4.5 5.6 6.7 7.8 8.9]\n",
      "[1 2 3 4 5 6 7 8]\n",
      "float64\n",
      "int32\n"
     ]
    }
   ],
   "source": [
    "# float to int\n",
    "import numpy as np\n",
    "\n",
    "ar = np.array([1.2, 2.3, 3.4, 4.5, 5.6, 6.7, 7.8, 8.9])\n",
    "\n",
    "arr = ar.astype('i')\n",
    "\n",
    "print(ar)\n",
    "print(arr)\n",
    "\n",
    "print(ar.dtype)\n",
    "print(arr.dtype)"
   ]
  },
  {
   "cell_type": "code",
   "execution_count": 19,
   "id": "90e5fc0a",
   "metadata": {},
   "outputs": [
    {
     "name": "stdout",
     "output_type": "stream",
     "text": [
      "[12  0 56  0]\n",
      "[ True False  True False]\n",
      "int32\n",
      "bool\n"
     ]
    }
   ],
   "source": [
    "# int to bool\n",
    "\n",
    "ar = np.array([12,0,56,0])\n",
    "\n",
    "arr = ar.astype(bool)\n",
    "\n",
    "print(ar)\n",
    "print(arr)\n",
    "\n",
    "print(ar.dtype)\n",
    "print(arr.dtype)"
   ]
  },
  {
   "cell_type": "markdown",
   "id": "df9e4887",
   "metadata": {},
   "source": [
    "## Copy and View"
   ]
  },
  {
   "cell_type": "code",
   "execution_count": 20,
   "id": "cf292b97",
   "metadata": {},
   "outputs": [
    {
     "name": "stdout",
     "output_type": "stream",
     "text": [
      "[1 2 3 4 5]\n",
      "[ 1  2 10  4  5]\n",
      "[1 2 3 4 5]\n"
     ]
    }
   ],
   "source": [
    "# copy\n",
    "import numpy as np\n",
    "\n",
    "ar = np.array([1,2,3,4,5])\n",
    "x = ar.copy()\n",
    "print(x)\n",
    "x[2] = 10\n",
    "print(x)\n",
    "print(ar)"
   ]
  },
  {
   "cell_type": "code",
   "execution_count": 21,
   "id": "96d27cbc",
   "metadata": {},
   "outputs": [
    {
     "name": "stdout",
     "output_type": "stream",
     "text": [
      "[1 2 3 4 5]\n",
      "[ 1  2 10  4  5]\n",
      "[ 1  2 10  4  5]\n"
     ]
    }
   ],
   "source": [
    "# view\n",
    "\n",
    "ar = np.array([1,2,3,4,5])\n",
    "x = ar.view()\n",
    "print(x)\n",
    "x[2] = 10\n",
    "print(x)\n",
    "print(ar)"
   ]
  },
  {
   "cell_type": "markdown",
   "id": "ed81835d",
   "metadata": {},
   "source": [
    "## Array Reshaping"
   ]
  },
  {
   "cell_type": "code",
   "execution_count": 22,
   "id": "067f28f1",
   "metadata": {},
   "outputs": [
    {
     "name": "stdout",
     "output_type": "stream",
     "text": [
      "[[ 1  2  3  4]\n",
      " [ 5  6  7  8]\n",
      " [ 9 10 11 12]]\n"
     ]
    }
   ],
   "source": [
    "import numpy as np\n",
    "\n",
    "x = np.array([1,2,3,4,5,6,7,8,9,10,11,12])\n",
    "\n",
    "z = x.reshape(3,4)\n",
    "\n",
    "print(z)"
   ]
  },
  {
   "cell_type": "code",
   "execution_count": 23,
   "id": "f63c1d41",
   "metadata": {},
   "outputs": [
    {
     "name": "stdout",
     "output_type": "stream",
     "text": [
      "[[[ 1  2  3  4  5]\n",
      "  [ 6  7  8  9 10]]\n",
      "\n",
      " [[11 12 13 14 15]\n",
      "  [16 17 18 19 20]]]\n"
     ]
    }
   ],
   "source": [
    "a = np.array([1,2,3,4,5,6,7,8,9,10,11,12,13,14,15,16,17,18,19,20])\n",
    "    \n",
    "x = a.reshape(2,2,5)\n",
    "print(x)"
   ]
  },
  {
   "cell_type": "markdown",
   "id": "e01aea6f",
   "metadata": {},
   "source": [
    "## Unknown Dimension"
   ]
  },
  {
   "cell_type": "code",
   "execution_count": 24,
   "id": "92bfefd3",
   "metadata": {},
   "outputs": [
    {
     "name": "stdout",
     "output_type": "stream",
     "text": [
      "Array B-\n",
      "[[[ 1  2  3  4  5]\n",
      "  [ 6  7  8  9 10]]\n",
      "\n",
      " [[11 12 13 14 15]\n",
      "  [16 17 18 19 20]]] \n",
      "\n",
      "Array A-\n",
      "[[[ 1  2]\n",
      "  [ 3  4]\n",
      "  [ 5  6]\n",
      "  [ 7  8]\n",
      "  [ 9 10]]\n",
      "\n",
      " [[11 12]\n",
      "  [13 14]\n",
      "  [15 16]\n",
      "  [17 18]\n",
      "  [19 20]]] \n",
      "\n",
      "Array Z-\n",
      "[[[ 1  2]\n",
      "  [ 3  4]]\n",
      "\n",
      " [[ 5  6]\n",
      "  [ 7  8]]\n",
      "\n",
      " [[ 9 10]\n",
      "  [11 12]]\n",
      "\n",
      " [[13 14]\n",
      "  [15 16]]\n",
      "\n",
      " [[17 18]\n",
      "  [19 20]]] \n",
      "\n",
      "Array C-\n",
      "[[ 1  2]\n",
      " [ 3  4]\n",
      " [ 5  6]\n",
      " [ 7  8]\n",
      " [ 9 10]\n",
      " [11 12]\n",
      " [13 14]\n",
      " [15 16]\n",
      " [17 18]\n",
      " [19 20]]\n"
     ]
    }
   ],
   "source": [
    "import numpy as np\n",
    "\n",
    "x = np.array([1,2,3,4,5,6,7,8,9,10,11,12,13,14,15,16,17,18,19,20])\n",
    "\n",
    "b = x.reshape(2,-1,5)\n",
    "a = x.reshape(2,-1,2)\n",
    "z = x.reshape(5,-1,2)\n",
    "c = x.reshape(10,-1)\n",
    "\n",
    "print('Array B-')\n",
    "print(b,'\\n')\n",
    "\n",
    "print('Array A-')\n",
    "print(a,'\\n')\n",
    "\n",
    "print('Array Z-')\n",
    "print(z,'\\n')\n",
    "\n",
    "print('Array C-')\n",
    "print(c)"
   ]
  },
  {
   "cell_type": "markdown",
   "id": "77d07ad6",
   "metadata": {},
   "source": [
    "## Flattening arrays"
   ]
  },
  {
   "cell_type": "code",
   "execution_count": 25,
   "id": "3177b15a",
   "metadata": {},
   "outputs": [
    {
     "name": "stdout",
     "output_type": "stream",
     "text": [
      "[[1 2 3]\n",
      " [4 5 6]\n",
      " [7 8 9]] \n",
      "\n",
      "[1 2 3 4 5 6 7 8 9]\n"
     ]
    }
   ],
   "source": [
    "# one way\n",
    "ar = np.array([[1,2,3],[4,5,6],[7,8,9]])\n",
    "print(ar,'\\n')\n",
    "\n",
    "arr = ar.flatten()\n",
    "print(arr)"
   ]
  },
  {
   "cell_type": "code",
   "execution_count": 26,
   "id": "3ad92eb6",
   "metadata": {},
   "outputs": [
    {
     "name": "stdout",
     "output_type": "stream",
     "text": [
      "[[1 2 3]\n",
      " [4 5 6]\n",
      " [7 8 9]] \n",
      "\n",
      "[1 2 3 4 5 6 7 8 9]\n"
     ]
    }
   ],
   "source": [
    "# another way\n",
    "ar = np.array([[1,2,3],[4,5,6],[7,8,9]])\n",
    "print(ar,'\\n')\n",
    "\n",
    "arr = ar.reshape(-1)\n",
    "print(arr)"
   ]
  },
  {
   "cell_type": "markdown",
   "id": "c35e4354",
   "metadata": {},
   "source": [
    "## Numpy Array Iterating"
   ]
  },
  {
   "cell_type": "code",
   "execution_count": 27,
   "id": "48af04ad",
   "metadata": {},
   "outputs": [
    {
     "name": "stdout",
     "output_type": "stream",
     "text": [
      "1\n",
      "2\n",
      "3\n",
      "4\n",
      "5\n"
     ]
    }
   ],
   "source": [
    "# on 1D array\n",
    "a = np.array([1,2,3,4,5])\n",
    "\n",
    "for i in a:\n",
    "    print(i)"
   ]
  },
  {
   "cell_type": "code",
   "execution_count": 28,
   "id": "fa67314e",
   "metadata": {},
   "outputs": [
    {
     "name": "stdout",
     "output_type": "stream",
     "text": [
      "[1 2 3] \n",
      "\n",
      "1 \n",
      "\n",
      "2 \n",
      "\n",
      "3 \n",
      "\n",
      "[4 5 6] \n",
      "\n",
      "4 \n",
      "\n",
      "5 \n",
      "\n",
      "6 \n",
      "\n"
     ]
    }
   ],
   "source": [
    "# on 2D array\n",
    "x = np.array([[1,2,3],[4,5,6]])\n",
    "\n",
    "for i in x:\n",
    "    print(i,'\\n')\n",
    "    for y in i:\n",
    "        print(y,'\\n')"
   ]
  },
  {
   "cell_type": "code",
   "execution_count": 29,
   "id": "9bf906a6",
   "metadata": {},
   "outputs": [
    {
     "name": "stdout",
     "output_type": "stream",
     "text": [
      "[[1 2 3]\n",
      " [4 5 6]] \n",
      "\n",
      "[1 2 3] \n",
      "\n",
      "1 \n",
      "\n",
      "2 \n",
      "\n",
      "3 \n",
      "\n",
      "[4 5 6] \n",
      "\n",
      "4 \n",
      "\n",
      "5 \n",
      "\n",
      "6 \n",
      "\n",
      "[[ 7  8  9]\n",
      " [10 11 12]] \n",
      "\n",
      "[7 8 9] \n",
      "\n",
      "7 \n",
      "\n",
      "8 \n",
      "\n",
      "9 \n",
      "\n",
      "[10 11 12] \n",
      "\n",
      "10 \n",
      "\n",
      "11 \n",
      "\n",
      "12 \n",
      "\n"
     ]
    }
   ],
   "source": [
    "# on 3D array\n",
    "a = np.array([[[1,2,3],[4,5,6]],[[7,8,9],[10,11,12]]])\n",
    "\n",
    "for x in a:\n",
    "    print(x,'\\n')\n",
    "    for y in x:\n",
    "        print(y,'\\n')\n",
    "        for z in y:\n",
    "            print(z,'\\n')"
   ]
  },
  {
   "cell_type": "markdown",
   "id": "a1298864",
   "metadata": {},
   "source": [
    "## iterating arrays using nditer() "
   ]
  },
  {
   "cell_type": "code",
   "execution_count": 30,
   "id": "b16dc249",
   "metadata": {},
   "outputs": [
    {
     "name": "stdout",
     "output_type": "stream",
     "text": [
      "1\n",
      "2\n",
      "3\n",
      "4\n",
      "5\n",
      "6\n",
      "7\n",
      "8\n",
      "9\n"
     ]
    }
   ],
   "source": [
    "# iterating over 3D arrays \n",
    "import numpy as np\n",
    "\n",
    "x = np.array([[[1,2,3],[4,5,6],[7,8,9]]])\n",
    "\n",
    "for i in np.nditer(x):\n",
    "    print(i)"
   ]
  },
  {
   "cell_type": "code",
   "execution_count": 31,
   "id": "c4a92596",
   "metadata": {},
   "outputs": [
    {
     "name": "stdout",
     "output_type": "stream",
     "text": [
      "b'1'\n",
      "b'2'\n",
      "b'3'\n",
      "b'4'\n",
      "b'5'\n"
     ]
    }
   ],
   "source": [
    "ar = np.array([1,2,3,4,5])\n",
    "\n",
    "for i in np.nditer(ar, flags = ['buffered'], op_dtypes = ['S']):\n",
    "    print(i)"
   ]
  },
  {
   "cell_type": "code",
   "execution_count": 32,
   "id": "a02e9c4f",
   "metadata": {},
   "outputs": [
    {
     "name": "stdout",
     "output_type": "stream",
     "text": [
      "1.0\n",
      "2.0\n",
      "3.0\n",
      "4.0\n",
      "5.0\n"
     ]
    }
   ],
   "source": [
    "ar = np.array([1,2,3,4,5])\n",
    "\n",
    "for i in np.nditer(ar, flags = ['buffered'], op_dtypes = ['float']):\n",
    "    print(i)"
   ]
  },
  {
   "cell_type": "code",
   "execution_count": 33,
   "id": "d8ce4dd3",
   "metadata": {},
   "outputs": [
    {
     "name": "stdout",
     "output_type": "stream",
     "text": [
      "1\n",
      "3\n",
      "5\n",
      "6\n",
      "8\n",
      "10\n",
      "11\n",
      "13\n",
      "15\n",
      "16\n",
      "18\n",
      "20\n"
     ]
    }
   ],
   "source": [
    "# slicing of a numpy array and steps in iteration\n",
    "\n",
    "ar = np.array([[1,2,3,4,5],[6,7,8,9,10],[11,12,13,14,15],[16,17,18,19,20]])\n",
    "\n",
    "for i in np.nditer(ar[0:4,0:5:2]):\n",
    "    print(i)"
   ]
  },
  {
   "cell_type": "markdown",
   "id": "38627b5a",
   "metadata": {},
   "source": [
    "## Iteration using ndenumerate()"
   ]
  },
  {
   "cell_type": "code",
   "execution_count": 34,
   "id": "1b3b9778",
   "metadata": {},
   "outputs": [
    {
     "name": "stdout",
     "output_type": "stream",
     "text": [
      "Location:- (0,) - Value:- 1\n",
      "Location:- (1,) - Value:- 2\n",
      "Location:- (2,) - Value:- 3\n",
      "Location:- (3,) - Value:- 4\n",
      "Location:- (4,) - Value:- 5\n",
      "Location:- (5,) - Value:- 6\n",
      "Location:- (6,) - Value:- 7\n",
      "Location:- (7,) - Value:- 8\n",
      "Location:- (8,) - Value:- 9\n"
     ]
    }
   ],
   "source": [
    "# on 1D array\n",
    "x = np.array([1,2,3,4,5,6,7,8,9])\n",
    "\n",
    "for a, b in np.ndenumerate(x):\n",
    "    print(f\"Location:- {a} - Value:- {b}\")"
   ]
  },
  {
   "cell_type": "code",
   "execution_count": 35,
   "id": "c3a51c06",
   "metadata": {},
   "outputs": [
    {
     "name": "stdout",
     "output_type": "stream",
     "text": [
      "Location:- (0, 0) - Value:- 1\n",
      "Location:- (0, 1) - Value:- 2\n",
      "Location:- (0, 2) - Value:- 3\n",
      "Location:- (1, 0) - Value:- 4\n",
      "Location:- (1, 1) - Value:- 5\n",
      "Location:- (1, 2) - Value:- 6\n",
      "Location:- (2, 0) - Value:- 7\n",
      "Location:- (2, 1) - Value:- 8\n",
      "Location:- (2, 2) - Value:- 9\n"
     ]
    }
   ],
   "source": [
    "# on 2D array\n",
    "a = np.array([[1,2,3],[4,5,6],[7,8,9]])\n",
    "\n",
    "for x, z in np.ndenumerate(a):\n",
    "    print(f\"Location:- {x} - Value:- {z}\")"
   ]
  },
  {
   "cell_type": "code",
   "execution_count": 36,
   "id": "6735086d",
   "metadata": {},
   "outputs": [
    {
     "name": "stdout",
     "output_type": "stream",
     "text": [
      "Location:- (0, 0, 0) - Value:- 1\n",
      "Location:- (0, 0, 1) - Value:- 2\n",
      "Location:- (0, 0, 2) - Value:- 3\n",
      "Location:- (0, 1, 0) - Value:- 4\n",
      "Location:- (0, 1, 1) - Value:- 5\n",
      "Location:- (0, 1, 2) - Value:- 6\n",
      "Location:- (1, 0, 0) - Value:- 7\n",
      "Location:- (1, 0, 1) - Value:- 8\n",
      "Location:- (1, 0, 2) - Value:- 9\n",
      "Location:- (1, 1, 0) - Value:- 10\n",
      "Location:- (1, 1, 1) - Value:- 11\n",
      "Location:- (1, 1, 2) - Value:- 12\n"
     ]
    }
   ],
   "source": [
    "# on 3D array\n",
    "z = np.array([[[1,2,3],[4,5,6]],[[7,8,9],[10,11,12]]])\n",
    "\n",
    "for x, y in np.ndenumerate(z):\n",
    "    print(f\"Location:- {x} - Value:- {y}\")"
   ]
  },
  {
   "cell_type": "markdown",
   "id": "6377e8c9",
   "metadata": {},
   "source": [
    "## Joining array\n",
    "\n",
    "concatenate() = Merge numpy arrays"
   ]
  },
  {
   "cell_type": "code",
   "execution_count": 37,
   "id": "d6c53a4c",
   "metadata": {},
   "outputs": [
    {
     "name": "stdout",
     "output_type": "stream",
     "text": [
      "[ 1  2  3  4  5  6  7  8  9 10]\n"
     ]
    }
   ],
   "source": [
    "# on 1D array\n",
    "\n",
    "a1 = np.array([1,2,3,4,5])\n",
    "a2 = np.array([6,7,8,9,10])\n",
    "\n",
    "x = np.concatenate((a1,a2))\n",
    "print(x)"
   ]
  },
  {
   "cell_type": "code",
   "execution_count": 38,
   "id": "1d7ac265",
   "metadata": {},
   "outputs": [
    {
     "name": "stdout",
     "output_type": "stream",
     "text": [
      "[[ 1  2  3]\n",
      " [ 4  5  6]\n",
      " [ 7  8  9]\n",
      " [10 11 12]]\n"
     ]
    }
   ],
   "source": [
    "# on 2D array\n",
    "# using axis option\n",
    "\n",
    "x1 = np.array([[1,2,3],[4,5,6]])\n",
    "x2 = np.array([[7,8,9],[10,11,12]])\n",
    "\n",
    "a = np.concatenate((x1,x2), axis = 0)\n",
    "print(a)"
   ]
  },
  {
   "cell_type": "code",
   "execution_count": 39,
   "id": "fd93413c",
   "metadata": {},
   "outputs": [
    {
     "name": "stdout",
     "output_type": "stream",
     "text": [
      "[[ 1  2  3  7  8  9]\n",
      " [ 4  5  6 10 11 12]]\n"
     ]
    }
   ],
   "source": [
    "# on 2D array\n",
    "# using axis option\n",
    "\n",
    "x1 = np.array([[1,2,3],[4,5,6]])\n",
    "x2 = np.array([[7,8,9],[10,11,12]])\n",
    "\n",
    "a = np.concatenate((x1,x2), axis = 1)\n",
    "print(a)"
   ]
  },
  {
   "cell_type": "markdown",
   "id": "6771e758",
   "metadata": {},
   "source": [
    "## Joining arrays using stack function"
   ]
  },
  {
   "cell_type": "code",
   "execution_count": 40,
   "id": "a6891dc5",
   "metadata": {},
   "outputs": [
    {
     "name": "stdout",
     "output_type": "stream",
     "text": [
      "[[1 2 3 4]\n",
      " [5 6 7 8]] \n",
      "\n",
      "[[1 5]\n",
      " [2 6]\n",
      " [3 7]\n",
      " [4 8]]\n"
     ]
    }
   ],
   "source": [
    "ar1 = np.array([1,2,3,4])\n",
    "ar2 = np.array([5,6,7,8])\n",
    "\n",
    "x = np.stack((ar1,ar2),axis=0)\n",
    "print(x,'\\n')\n",
    "\n",
    "y = np.stack((ar1,ar2),axis=1)\n",
    "print(y)"
   ]
  },
  {
   "cell_type": "code",
   "execution_count": 41,
   "id": "61fd9de3",
   "metadata": {},
   "outputs": [
    {
     "name": "stdout",
     "output_type": "stream",
     "text": [
      "[1 2 3 4 5 6 7 8]\n"
     ]
    }
   ],
   "source": [
    "# hstack() = horizontal stack\n",
    "ar1 = np.array([1,2,3,4])\n",
    "ar2 = np.array([5,6,7,8])\n",
    "\n",
    "x = np.hstack((ar1,ar2))\n",
    "print(x)"
   ]
  },
  {
   "cell_type": "code",
   "execution_count": 42,
   "id": "d71a823c",
   "metadata": {},
   "outputs": [
    {
     "name": "stdout",
     "output_type": "stream",
     "text": [
      "[[1 2 3 4]\n",
      " [5 6 7 8]]\n"
     ]
    }
   ],
   "source": [
    "# vstack = verticle stack\n",
    "ar1 = np.array([1,2,3,4])\n",
    "ar2 = np.array([5,6,7,8])\n",
    "\n",
    "x = np.vstack((ar1,ar2))\n",
    "print(x)"
   ]
  },
  {
   "cell_type": "code",
   "execution_count": 43,
   "id": "86e81a28",
   "metadata": {},
   "outputs": [
    {
     "name": "stdout",
     "output_type": "stream",
     "text": [
      "[[[1 5]\n",
      "  [2 6]\n",
      "  [3 7]\n",
      "  [4 8]]]\n"
     ]
    }
   ],
   "source": [
    "ar1 = np.array([1,2,3,4])\n",
    "ar2 = np.array([5,6,7,8])\n",
    "\n",
    "x = np.dstack((ar1,ar2))\n",
    "print(x)"
   ]
  },
  {
   "cell_type": "markdown",
   "id": "f5f91cd7",
   "metadata": {},
   "source": [
    "## Splitting array\n",
    "\n",
    "joining merges multiple arrays into one and splitting breaks one array into multiple arrays"
   ]
  },
  {
   "cell_type": "code",
   "execution_count": 44,
   "id": "e2bc582f",
   "metadata": {},
   "outputs": [
    {
     "name": "stdout",
     "output_type": "stream",
     "text": [
      "[array([ 1,  2,  3,  4,  5,  6,  7,  8,  9, 10])] \n",
      "\n",
      "[array([1, 2, 3, 4, 5]), array([ 6,  7,  8,  9, 10])] \n",
      "\n",
      "[array([1, 2]), array([3, 4]), array([5, 6]), array([7, 8]), array([ 9, 10])] \n",
      "\n",
      "[array([1]), array([2]), array([3]), array([4]), array([5]), array([6]), array([7]), array([8]), array([9]), array([10])]\n"
     ]
    }
   ],
   "source": [
    "# one way\n",
    "import numpy as np\n",
    "\n",
    "ar = np.array([1,2,3,4,5,6,7,8,9,10])\n",
    "\n",
    "x = np.array_split(ar,1)\n",
    "y = np.array_split(ar,2)\n",
    "z = np.array_split(ar,5)\n",
    "a = np.array_split(ar,10)\n",
    "\n",
    "print(x,'\\n')\n",
    "print(y,'\\n')\n",
    "print(z,'\\n')\n",
    "print(a)"
   ]
  },
  {
   "cell_type": "code",
   "execution_count": 45,
   "id": "abc397ec",
   "metadata": {},
   "outputs": [
    {
     "name": "stdout",
     "output_type": "stream",
     "text": [
      "[array([1, 2]), array([3, 4]), array([5, 6]), array([7, 8]), array([ 9, 10])]\n"
     ]
    }
   ],
   "source": [
    "# \n",
    "ar = np.array([1,2,3,4,5,6,7,8,9,10])\n",
    "\n",
    "x = np.split(ar,5)\n",
    "print(x)"
   ]
  },
  {
   "cell_type": "markdown",
   "id": "6bbd636c",
   "metadata": {},
   "source": [
    "## hsplit(), vsplit() & dsplit()"
   ]
  },
  {
   "cell_type": "code",
   "execution_count": 46,
   "id": "b0dbc47a",
   "metadata": {},
   "outputs": [
    {
     "name": "stdout",
     "output_type": "stream",
     "text": [
      "[array([[1],\n",
      "       [5]]), array([[2],\n",
      "       [6]]), array([[3],\n",
      "       [7]]), array([[4],\n",
      "       [8]])]\n"
     ]
    }
   ],
   "source": [
    "# hsplit()\n",
    "import numpy as np\n",
    "a = np.array([[1,2,3,4],[5,6,7,8]])\n",
    "\n",
    "b = np.hsplit(a,4)\n",
    "print(b)"
   ]
  },
  {
   "cell_type": "code",
   "execution_count": 47,
   "id": "df4bd484",
   "metadata": {},
   "outputs": [
    {
     "name": "stdout",
     "output_type": "stream",
     "text": [
      "[array([[1, 2, 3, 4]]), array([[5, 6, 7, 8]])]\n"
     ]
    }
   ],
   "source": [
    "# vsplit()\n",
    "a = np.array([[1,2,3,4],[5,6,7,8]])\n",
    "\n",
    "b = np.vsplit(a,2)\n",
    "print(b)"
   ]
  },
  {
   "cell_type": "code",
   "execution_count": 48,
   "id": "9c70d9ce",
   "metadata": {},
   "outputs": [
    {
     "name": "stdout",
     "output_type": "stream",
     "text": [
      "[array([[[ 1,  2],\n",
      "        [ 5,  6]],\n",
      "\n",
      "       [[10, 20],\n",
      "        [50, 60]]]), array([[[ 3,  4],\n",
      "        [ 7,  8]],\n",
      "\n",
      "       [[30, 40],\n",
      "        [70, 80]]])]\n"
     ]
    }
   ],
   "source": [
    "# dsplit()\n",
    "a = np.array([[[1,2,3,4],[5,6,7,8]],[[10,20,30,40],[50,60,70,80]]])\n",
    "\n",
    "b = np.dsplit(a,2)\n",
    "print(b)"
   ]
  },
  {
   "cell_type": "markdown",
   "id": "b514c3c7",
   "metadata": {},
   "source": [
    "## Arithmetic operation on array"
   ]
  },
  {
   "cell_type": "code",
   "execution_count": 49,
   "id": "2d01dc5d",
   "metadata": {},
   "outputs": [
    {
     "name": "stdout",
     "output_type": "stream",
     "text": [
      "Addition:\n",
      " [[2 3 4 5]\n",
      " [6 7 8 9]] \n",
      "\n",
      "Subtraction:\n",
      " [[-1  0  1  2]\n",
      " [ 3  4  5  6]] \n",
      "\n",
      "Multiplication:\n",
      " [[ 5 10 15 20]\n",
      " [25 30 35 40]] \n",
      "\n",
      "Division:\n",
      " [[0.5 1.  1.5 2. ]\n",
      " [2.5 3.  3.5 4. ]]\n"
     ]
    }
   ],
   "source": [
    "x =np.array([[1,2,3,4],[5,6,7,8]])\n",
    "\n",
    "print(\"Addition:\\n\",x + 1,'\\n')\n",
    "print(\"Subtraction:\\n\",x - 2,'\\n')\n",
    "print(\"Multiplication:\\n\",x * 5,'\\n')\n",
    "print(\"Division:\\n\",x / 2)"
   ]
  },
  {
   "cell_type": "markdown",
   "id": "5a6452ab",
   "metadata": {},
   "source": [
    "## Searching arrays\n",
    "\n",
    "where() method is used for searching in array"
   ]
  },
  {
   "cell_type": "code",
   "execution_count": 50,
   "id": "ff863f2e",
   "metadata": {},
   "outputs": [
    {
     "name": "stdout",
     "output_type": "stream",
     "text": [
      "Location: (array([ 3, 12, 15], dtype=int64),) \n",
      "\n",
      "Location: (array([ 5,  6,  9, 11, 17], dtype=int64),) \n",
      "\n",
      "Location: (array([ 1, 13], dtype=int64),)\n"
     ]
    }
   ],
   "source": [
    "# finding elements in 1D array\n",
    "ar = np.array([1,2,3,4,5,6,6,7,8,6,9,6,4,2,3,4,1,6,8,9])\n",
    "\n",
    "x = np.where(ar == 4)\n",
    "y = np.where(ar == 6)\n",
    "z = np.where(ar == 2)\n",
    "\n",
    "print(\"Location:\",x,'\\n')\n",
    "print(\"Location:\",y,'\\n')\n",
    "print(\"Location:\",z)"
   ]
  },
  {
   "cell_type": "code",
   "execution_count": 51,
   "id": "18da1ee7",
   "metadata": {},
   "outputs": [
    {
     "name": "stdout",
     "output_type": "stream",
     "text": [
      "Location of Even numbers: (array([ 1,  3,  5,  6,  8,  9, 11, 12, 13, 15, 17, 18], dtype=int64),)\n"
     ]
    }
   ],
   "source": [
    "ar = np.array([1,2,3,4,5,6,6,7,8,6,9,6,4,2,3,4,1,6,8,9])\n",
    "\n",
    "x = np.where(ar%2 == 0)\n",
    "\n",
    "print(\"Location of Even numbers:\",x)"
   ]
  },
  {
   "cell_type": "markdown",
   "id": "3935726c",
   "metadata": {},
   "source": [
    "## Search sorted\n",
    "\n",
    "There is a method called searchsorted() which performs a binary search in the array, and returns the index where the specified value would be inserted to maintain the search order."
   ]
  },
  {
   "cell_type": "code",
   "execution_count": 52,
   "id": "8779dbb6",
   "metadata": {},
   "outputs": [
    {
     "name": "stdout",
     "output_type": "stream",
     "text": [
      "1\n",
      "5\n"
     ]
    }
   ],
   "source": [
    "ar = np.array([1,3,4,5,6,8,9])\n",
    "\n",
    "x = np.searchsorted(ar, 2)\n",
    "y = np.searchsorted(ar, 7)\n",
    "\n",
    "print(x)\n",
    "print(y)"
   ]
  },
  {
   "cell_type": "code",
   "execution_count": 53,
   "id": "5d9718c1",
   "metadata": {},
   "outputs": [
    {
     "name": "stdout",
     "output_type": "stream",
     "text": [
      "2\n"
     ]
    }
   ],
   "source": [
    "arr = np.array([1,2,3,4,5,6])\n",
    "\n",
    "x = np.searchsorted(arr, 2.5, side = 'right')\n",
    "print(x)"
   ]
  },
  {
   "cell_type": "code",
   "execution_count": 54,
   "id": "305117e6",
   "metadata": {},
   "outputs": [
    {
     "name": "stdout",
     "output_type": "stream",
     "text": [
      "3\n"
     ]
    }
   ],
   "source": [
    "arr = np.array([1,2,3,4,5,6])\n",
    "\n",
    "x = np.searchsorted(arr, 3.3, side = 'left')\n",
    "print(x)"
   ]
  },
  {
   "cell_type": "code",
   "execution_count": 55,
   "id": "8c1553fe",
   "metadata": {},
   "outputs": [
    {
     "name": "stdout",
     "output_type": "stream",
     "text": [
      "[1 3 3 4]\n"
     ]
    }
   ],
   "source": [
    "# multiple values\n",
    "x = np.array([10,30,40,70,90])\n",
    "\n",
    "z = np.searchsorted(x, [20, 50, 60, 80])\n",
    "print(z)"
   ]
  },
  {
   "cell_type": "markdown",
   "id": "9fffeaa9",
   "metadata": {},
   "source": [
    "## Sorting arrays\n",
    "\n",
    "Sorting means putting elements in an ordered sequence.\n",
    "\n",
    "Ordered sequence is any sequence that has an order corresponding to elements, like numeric or alphabetical, ascending or descending.\n",
    "\n",
    "The NumPy ndarray object has a function called sort(), that will sort a specified array."
   ]
  },
  {
   "cell_type": "code",
   "execution_count": 56,
   "id": "6a5c03aa",
   "metadata": {},
   "outputs": [
    {
     "name": "stdout",
     "output_type": "stream",
     "text": [
      "[10 20 30 40]\n"
     ]
    }
   ],
   "source": [
    "# sort() on array\n",
    "arr = np.array([30, 20, 40, 10])\n",
    "\n",
    "print(np.sort(arr))"
   ]
  },
  {
   "cell_type": "code",
   "execution_count": 57,
   "id": "15645560",
   "metadata": {},
   "outputs": [
    {
     "name": "stdout",
     "output_type": "stream",
     "text": [
      "['apple' 'banana' 'cherry']\n"
     ]
    }
   ],
   "source": [
    "# sort() on string\n",
    "arr = np.array(['banana', 'cherry', 'apple'])\n",
    "\n",
    "print(np.sort(arr))"
   ]
  },
  {
   "cell_type": "code",
   "execution_count": 58,
   "id": "9b8b0aac",
   "metadata": {},
   "outputs": [
    {
     "name": "stdout",
     "output_type": "stream",
     "text": [
      "[False  True  True]\n"
     ]
    }
   ],
   "source": [
    "# sort on boolean\n",
    "arr = np.array([True, False, True])\n",
    "\n",
    "print(np.sort(arr))"
   ]
  },
  {
   "cell_type": "code",
   "execution_count": 59,
   "id": "b1c2e3d9",
   "metadata": {},
   "outputs": [
    {
     "name": "stdout",
     "output_type": "stream",
     "text": [
      "[[1 2 3 4]\n",
      " [5 6 7 8]]\n"
     ]
    }
   ],
   "source": [
    "# sort on 2D array\n",
    "arr = np.array([[1,3, 2, 4], [5, 8, 7, 6]])\n",
    "\n",
    "print(np.sort(arr))"
   ]
  },
  {
   "cell_type": "markdown",
   "id": "3d09a0cf",
   "metadata": {},
   "source": [
    "## Filtering Arrays\n",
    "\n",
    "\n",
    "Getting some elements out of an existing array and creating a new array out of them is called filtering.\n",
    "\n",
    "In NumPy, you filter an array using a boolean index list.\n",
    "\n",
    "A boolean index list is a list of booleans corresponding to indexes in the array.\n",
    "\n",
    "If the value at an index is True that element is contained in the filtered array, if the value at that index is False that element is excluded from the filtered array."
   ]
  },
  {
   "cell_type": "code",
   "execution_count": 60,
   "id": "6571bb5f",
   "metadata": {},
   "outputs": [
    {
     "name": "stdout",
     "output_type": "stream",
     "text": [
      "[1 3 5]\n"
     ]
    }
   ],
   "source": [
    "import numpy as np\n",
    "\n",
    "x = np.array([1,2,3,4,5])\n",
    "y = [True, False, True, False, True]\n",
    "\n",
    "print(x[y])"
   ]
  },
  {
   "cell_type": "code",
   "execution_count": 61,
   "id": "61e36c12",
   "metadata": {},
   "outputs": [
    {
     "name": "stdout",
     "output_type": "stream",
     "text": [
      "[1 2 3 4 5 6 7 8 9] \n",
      "\n",
      "[True, True, True, False, False, False, True, True, True]\n",
      "[1 2 3 7 8 9]\n"
     ]
    }
   ],
   "source": [
    "arr = np.array([1,2,3,4,5,6,7,8,9])\n",
    "\n",
    "print(arr,'\\n')\n",
    "\n",
    "x = []\n",
    "\n",
    "for i in arr:\n",
    "    if i >= 7 or i <= 3:\n",
    "        x.append(True)\n",
    "    else:\n",
    "        x.append(False)\n",
    "\n",
    "print(x)\n",
    "\n",
    "print(arr[x])"
   ]
  },
  {
   "cell_type": "code",
   "execution_count": 62,
   "id": "2cd0b0e7",
   "metadata": {},
   "outputs": [
    {
     "name": "stdout",
     "output_type": "stream",
     "text": [
      "[ 1  2  3  4  5  6  7  8  9 10 11 12 13 14 15 16 17 18 19 20] \n",
      "\n",
      "[True, True, True, True, True, False, False, False, False, False, False, False, False, False, True, True, True, True, True, True] \n",
      "\n",
      "[ 1  2  3  4  5 15 16 17 18 19 20]\n"
     ]
    }
   ],
   "source": [
    "arr = np.arange(1,21)\n",
    "\n",
    "bool_val = []\n",
    "\n",
    "for i in arr:\n",
    "    if i <= 5 or i >= 15:\n",
    "        bool_val.append(True)\n",
    "    else:\n",
    "        bool_val.append(False)\n",
    "        \n",
    "print(arr,'\\n')\n",
    "print(bool_val,'\\n')\n",
    "print(arr[bool_val])"
   ]
  },
  {
   "cell_type": "code",
   "execution_count": 63,
   "id": "17232ac8",
   "metadata": {},
   "outputs": [
    {
     "name": "stdout",
     "output_type": "stream",
     "text": [
      "[ 1  2  3  4  5  6  7  8  9 10 11 12 13 14 15 16 17 18 19 20] \n",
      "\n",
      "[False, True, False, True, False, True, False, True, False, True, False, True, False, True, False, True, False, True, False, True] \n",
      "\n",
      "[ 2  4  6  8 10 12 14 16 18 20]\n"
     ]
    }
   ],
   "source": [
    "arr = np.arange(1,21)\n",
    "\n",
    "bool_val = []\n",
    "\n",
    "for i in arr:\n",
    "    if i % 2 == 0:\n",
    "        bool_val.append(True)\n",
    "    else:\n",
    "        bool_val.append(False)\n",
    "        \n",
    "print(arr,'\\n')\n",
    "print(bool_val,'\\n')\n",
    "print(arr[bool_val])"
   ]
  },
  {
   "cell_type": "markdown",
   "id": "fb6c9f6a",
   "metadata": {},
   "source": [
    "## Other Numpy Functions"
   ]
  },
  {
   "cell_type": "code",
   "execution_count": 64,
   "id": "e2aeb99d",
   "metadata": {},
   "outputs": [
    {
     "name": "stdout",
     "output_type": "stream",
     "text": [
      "[ 0  1  2  3  4  5  6  7  8  9 10 11 12 13 14 15 16 17 18 19 20 21 22 23\n",
      " 24]\n"
     ]
    }
   ],
   "source": [
    "# arange()\n",
    "arr = np.arange(25)\n",
    "# arr = np.array([1,3,2,4,6,5,7,8,10,9])\n",
    "print(arr)"
   ]
  },
  {
   "cell_type": "code",
   "execution_count": 65,
   "id": "6374905a",
   "metadata": {},
   "outputs": [
    {
     "name": "stdout",
     "output_type": "stream",
     "text": [
      "[[ 0  1  2  3  4]\n",
      " [ 5  6  7  8  9]\n",
      " [10 11 12 13 14]\n",
      " [15 16 17 18 19]\n",
      " [20 21 22 23 24]]\n"
     ]
    }
   ],
   "source": [
    "arr_2D = np.reshape(arr,(5,5))\n",
    "\n",
    "print(arr_2D)"
   ]
  },
  {
   "cell_type": "code",
   "execution_count": 66,
   "id": "9deef449",
   "metadata": {},
   "outputs": [
    {
     "data": {
      "text/plain": [
       "0"
      ]
     },
     "execution_count": 66,
     "metadata": {},
     "output_type": "execute_result"
    }
   ],
   "source": [
    "arr_2D.min()"
   ]
  },
  {
   "cell_type": "code",
   "execution_count": 67,
   "id": "ce49bedd",
   "metadata": {},
   "outputs": [
    {
     "data": {
      "text/plain": [
       "24"
      ]
     },
     "execution_count": 67,
     "metadata": {},
     "output_type": "execute_result"
    }
   ],
   "source": [
    "arr_2D.max()"
   ]
  },
  {
   "cell_type": "code",
   "execution_count": 68,
   "id": "f6959048",
   "metadata": {},
   "outputs": [
    {
     "data": {
      "text/plain": [
       "array([[0, 1, 2, 3, 4],\n",
       "       [0, 1, 2, 3, 4],\n",
       "       [0, 1, 2, 3, 4],\n",
       "       [0, 1, 2, 3, 4],\n",
       "       [0, 1, 2, 3, 4]], dtype=int64)"
      ]
     },
     "execution_count": 68,
     "metadata": {},
     "output_type": "execute_result"
    }
   ],
   "source": [
    "arr_2D.argsort()"
   ]
  },
  {
   "cell_type": "code",
   "execution_count": 69,
   "id": "f33f72ea",
   "metadata": {},
   "outputs": [
    {
     "data": {
      "text/plain": [
       "array([ 0,  6, 12, 18, 24])"
      ]
     },
     "execution_count": 69,
     "metadata": {},
     "output_type": "execute_result"
    }
   ],
   "source": [
    "arr_2D.diagonal()"
   ]
  },
  {
   "cell_type": "code",
   "execution_count": 70,
   "id": "060d9b99",
   "metadata": {},
   "outputs": [
    {
     "data": {
      "text/plain": [
       "300"
      ]
     },
     "execution_count": 70,
     "metadata": {},
     "output_type": "execute_result"
    }
   ],
   "source": [
    "arr_2D.sum()"
   ]
  },
  {
   "cell_type": "code",
   "execution_count": 71,
   "id": "f27b6d8e",
   "metadata": {},
   "outputs": [
    {
     "data": {
      "text/plain": [
       "12.0"
      ]
     },
     "execution_count": 71,
     "metadata": {},
     "output_type": "execute_result"
    }
   ],
   "source": [
    "arr_2D.mean()"
   ]
  },
  {
   "cell_type": "code",
   "execution_count": 72,
   "id": "061f7a10",
   "metadata": {},
   "outputs": [
    {
     "data": {
      "text/plain": [
       "(array([0, 0, 0, 0, 1, 1, 1, 1, 1, 2, 2, 2, 2, 2, 3, 3, 3, 3, 3, 4, 4, 4,\n",
       "        4, 4], dtype=int64),\n",
       " array([1, 2, 3, 4, 0, 1, 2, 3, 4, 0, 1, 2, 3, 4, 0, 1, 2, 3, 4, 0, 1, 2,\n",
       "        3, 4], dtype=int64))"
      ]
     },
     "execution_count": 72,
     "metadata": {},
     "output_type": "execute_result"
    }
   ],
   "source": [
    "arr_2D.nonzero()"
   ]
  },
  {
   "cell_type": "code",
   "execution_count": 73,
   "id": "ce7a7ab7",
   "metadata": {},
   "outputs": [
    {
     "name": "stdout",
     "output_type": "stream",
     "text": [
      "[ 0  1  2  3  4  5  6  7  8  9 10 11 12 13 14 15 16 17 18 19 20 21 22 23\n",
      " 24]\n"
     ]
    }
   ],
   "source": [
    "print(arr_2D.ravel())"
   ]
  },
  {
   "cell_type": "code",
   "execution_count": 74,
   "id": "3ef15965",
   "metadata": {},
   "outputs": [
    {
     "name": "stdout",
     "output_type": "stream",
     "text": [
      "[ 1.    5.75 10.5  15.25 20.  ]\n"
     ]
    }
   ],
   "source": [
    "arr = np.linspace(1,20,5)\n",
    "\n",
    "print(arr)"
   ]
  },
  {
   "cell_type": "code",
   "execution_count": 75,
   "id": "f772ca33",
   "metadata": {},
   "outputs": [
    {
     "name": "stdout",
     "output_type": "stream",
     "text": [
      "[ 0.15446113  0.91075805  1.03433858 -1.87052156 -0.91171325  0.8885958\n",
      " -0.22893594  0.43179573  0.95206486 -0.36949107]\n"
     ]
    }
   ],
   "source": [
    "x = np.random.randn(10)\n",
    "print(x)"
   ]
  },
  {
   "cell_type": "code",
   "execution_count": null,
   "id": "a1558b9d",
   "metadata": {},
   "outputs": [],
   "source": []
  }
 ],
 "metadata": {
  "kernelspec": {
   "display_name": "Python 3 (ipykernel)",
   "language": "python",
   "name": "python3"
  },
  "language_info": {
   "codemirror_mode": {
    "name": "ipython",
    "version": 3
   },
   "file_extension": ".py",
   "mimetype": "text/x-python",
   "name": "python",
   "nbconvert_exporter": "python",
   "pygments_lexer": "ipython3",
   "version": "3.11.0"
  }
 },
 "nbformat": 4,
 "nbformat_minor": 5
}
